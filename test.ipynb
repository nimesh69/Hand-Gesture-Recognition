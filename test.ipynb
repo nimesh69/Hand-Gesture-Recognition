{
 "cells": [
  {
   "cell_type": "code",
   "execution_count": null,
   "metadata": {},
   "outputs": [],
   "source": [
    "from keras.models import load_model\n",
    "import cv2\n",
    "import numpy as np\n",
    "import os\n",
    "import time\n",
    "import mediapipe as mp\n",
    "from mediapipe.python.solutions import holistic"
   ]
  },
  {
   "cell_type": "code",
   "execution_count": null,
   "metadata": {},
   "outputs": [],
   "source": [
    "mp_drawing=mp.solutions.drawing_utils   #holistic model\n",
    "mp_holistic=mp.solutions.holistic       #drawing utilities\n",
    "def mediapipe_detection(image,model):\n",
    "    image = cv2.cvtColor(image, cv2.COLOR_BGR2RGB)  #color conversion BGR to RGB\n",
    "    image.flags.writeable = False                   #Image is no longer writeable\n",
    "    results = model.process(image)                  # make prediction\n",
    "    image.flags.writeable = True                    #image is now writeable\n",
    "    image = cv2.cvtColor(image, cv2.COLOR_RGB2BGR)  #color conversion again RGB to BGR\n",
    "    return image,results\n",
    "\n",
    "def draw_landmarks(image, results):\n",
    "    mp_drawing.draw_landmarks(image, results.face_landmarks, mp_holistic.FACEMESH_TESSELATION)  # Draw face connections\n",
    "    mp_drawing.draw_landmarks(image, results.pose_landmarks, mp_holistic.POSE_CONNECTIONS)  # Draw pose connections\n",
    "    mp_drawing.draw_landmarks(image, results.left_hand_landmarks, mp_holistic.HAND_CONNECTIONS) # Draw left hand connections\n",
    "    mp_drawing.draw_landmarks(image, results.right_hand_landmarks, mp_holistic.HAND_CONNECTIONS) #Draw right hand connections\n",
    "\n",
    "def draw_style_landmarks(image, results):\n",
    "    mp_drawing.draw_landmarks(image, results.face_landmarks, mp_holistic.FACEMESH_TESSELATION,\n",
    "                              mp_drawing.DrawingSpec(color=(175,13,13), thickness=1, circle_radius=1),   #color dot\n",
    "                              mp_drawing.DrawingSpec(color=(0,0,0), thickness=1, circle_radius=1)    #color line\n",
    "                              )\n",
    "    mp_drawing.draw_landmarks(image, results.pose_landmarks, mp_holistic.POSE_CONNECTIONS,\n",
    "                              mp_drawing.DrawingSpec(color=(178,16,16), thickness=2, circle_radius=4),   #color dot\n",
    "                              mp_drawing.DrawingSpec(color=(0,0,0), thickness=2, circle_radius=2)    #color line\n",
    "                              )\n",
    "    mp_drawing.draw_landmarks(image, results.left_hand_landmarks, mp_holistic.HAND_CONNECTIONS,\n",
    "                              mp_drawing.DrawingSpec(color=(0,0,0), thickness=2, circle_radius=1),   #color dot\n",
    "                              mp_drawing.DrawingSpec(color=(255,255,255), thickness=2, circle_radius=2)    #color line\n",
    "                              )\n",
    "    mp_drawing.draw_landmarks(image, results.right_hand_landmarks, mp_holistic.HAND_CONNECTIONS,\n",
    "                              mp_drawing.DrawingSpec(color=(255,255,255), thickness=2, circle_radius=1),   #color dot\n",
    "                              mp_drawing.DrawingSpec(color=(0,0,0), thickness=2, circle_radius=2)    #color line\n",
    "                              )\n",
    "\n",
    "def extract_keypoints(results):\n",
    "    pose = np.array([[res.x,res.y,res.y,res.visibility] for res in results.pose_landmarks.landmark]).flatten() if results.pose_landmarks else np.zeros(33*4)\n",
    "    face = np.array([[res.x,res.y,res.y] for res in results.face_landmarks.landmark]).flatten() if results.face_landmarks else np.zeros(468*3)\n",
    "    lh = np.array([[res.x,res.y,res.y] for res in results.left_hand_landmarks.landmark]).flatten() if results.left_hand_landmarks else np.zeros(21*3)\n",
    "    rh = np.array([[res.x,res.y,res.y] for res in results.right_hand_landmarks.landmark]).flatten() if results.right_hand_landmarks else np.zeros(21*3)\n",
    "    return np.concatenate([pose,face,lh,rh])"
   ]
  },
  {
   "cell_type": "code",
   "execution_count": null,
   "metadata": {},
   "outputs": [],
   "source": [
    "# actions=np.array(['Aausadi','Ambulance','Bathroom','Be Careful','Bleeding','Call','Dhanebad','Doctor','Dont Understand','Eklopan',\n",
    "#                   'Emergency','Firstaid','Good Morning','Happy','Heart_attack','Hello','Help','Hospital','Name','Need','Nice To Meet You',\n",
    "#                   'Oxygen','Pain','Please','Police','Relax','Sign','Slowly','Sorry','What','Yes','You'])\n",
    "# actions=np.array(['Ambulance','Bathroom','Be Careful','Bleeding','Good Morning','Help','Name','Relax','Slowly','What'])\n",
    "actions=np.array(['Dont Understand','Happy','Hello','Hospital','Nice To Meet You','Oxygen','Pain','Police','Yes','Sorry','चिकित्सक'])\n",
    "\n",
    "# actions=np.array(['Ambulance','Bathroom','Be Careful','Bleeding','Good Morning','help','Name','Relax','Slowly'])"
   ]
  },
  {
   "cell_type": "code",
   "execution_count": null,
   "metadata": {},
   "outputs": [],
   "source": [
    "# model_path = r'C:\\Users\\Dell\\Desktop\\New folder\\combile.h5'\n",
    "# model_path = r'C:\\Users\\Dell\\Desktop\\New folder\\combine.h5'\n",
    "# model_path = r'C:\\Users\\Dell\\Desktop\\New folder\\combinebilstm.h5'\n",
    "# model_path = r'C:\\Users\\Dell\\Desktop\\New folder\\handgesture-recognitioncnn.h5'\n",
    "# model_path = r'models\\Nimesh.h5'\n",
    "model_path = r'D:\\Hand Gesture Recognition\\lstm2.h5'\n",
    "# model_path = r'C:\\Users\\Dell\\Downloads\\1-7.h5'\n",
    "\n",
    "# Load the model\n",
    "loaded_model = load_model(model_path)"
   ]
  },
  {
   "cell_type": "code",
   "execution_count": null,
   "metadata": {},
   "outputs": [],
   "source": [
    "sequence = []\n",
    "sentence = []\n",
    "predictions = []\n",
    "threshold = 0.9\n",
    "\n",
    "cap = cv2.VideoCapture(0)\n",
    "with mp_holistic.Holistic(min_detection_confidence=0.5, min_tracking_confidence=0.5) as holistic:\n",
    "    while cap.isOpened():\n",
    "        # Read feed\n",
    "        ret, frame = cap.read()\n",
    "        # make detections\n",
    "        image, results = mediapipe_detection(frame, holistic)\n",
    "        # print(results)\n",
    "\n",
    "        # Draw landmarks\n",
    "        # draw_landmarks(image, results)  # default landmarks in face hand\n",
    "\n",
    "        draw_style_landmarks(image, results)  # customized landmarks in face and hand\n",
    "\n",
    "        # prediction logic\n",
    "        keypoints = extract_keypoints(results)\n",
    "        sequence.append(keypoints)\n",
    "        # sequence.insert(0, keypoints)\n",
    "        sequence = sequence[-60:]\n",
    "        \n",
    "        if len(sequence) == 60:\n",
    "            res = loaded_model.predict(np.expand_dims(sequence, axis=0))[0]\n",
    "            # print(actions[np.argmax(res)])\n",
    "            # print(\"Confidence values:\", res)\n",
    "            print(\"Predicted Action:\", actions[np.argmax(res)])\n",
    "            predictions.append(np.argmax(res))\n",
    "\n",
    "            # visualization logic\n",
    "            if np.unique(predictions[-30:])[0]==np.argmax(res):\n",
    "                if res[np.argmax(res)] > threshold:\n",
    "                    if len(sentence) > 0:\n",
    "                        if actions[np.argmax(res)] != sentence[-1]:\n",
    "                            sentence.append(actions[np.argmax(res)])\n",
    "                    else:\n",
    "                        sentence.append(actions[np.argmax(res)])\n",
    "\n",
    "            if len(sentence) > 3:\n",
    "                sentence = sentence[-3:]\n",
    "\n",
    "        # viz probabilities\n",
    "            # image = prob_viz(res,actions,image,colors)\n",
    "\n",
    "        image = cv2.rectangle(image, (0, 0), (640, 40), (245, 117, 16), -1)\n",
    "        image = cv2.flip(image, 1)\n",
    "        image = cv2.putText(image, ' '.join(sentence), (3, 30), cv2.FONT_HERSHEY_SIMPLEX, 1, (255, 255, 255), 2,\n",
    "                            cv2.LINE_AA)\n",
    "        # show to screen\n",
    "        cv2.imshow('OPENCV FEED', image)\n",
    "\n",
    "        if cv2.waitKey(10) & 0xFF == ord('q'):\n",
    "            break\n",
    "\n",
    "    cap.release()\n",
    "    cv2.destroyAllWindows()"
   ]
  },
  {
   "cell_type": "code",
   "execution_count": null,
   "metadata": {},
   "outputs": [],
   "source": [
    "import cv2\n",
    "import mediapipe as mp\n",
    "import numpy as np\n",
    "import time\n",
    "\n",
    "# Define your functions and variables for mediapipe, model, actions, and colors here\n",
    "\n",
    "sequence = []\n",
    "sentence = []\n",
    "predictions = []\n",
    "confi=[]\n",
    "display=[]\n",
    "threshold = 0.9\n",
    "\n",
    "cap = cv2.VideoCapture(0)\n",
    "\n",
    "# Variables for FPS calculation\n",
    "start_time = time.time()\n",
    "frame_count = 0\n",
    "fps=0\n",
    "with mp_holistic.Holistic(min_detection_confidence=0.5, min_tracking_confidence=0.5) as holistic:\n",
    "    while cap.isOpened():\n",
    "        # Read feed\n",
    "        ret, frame = cap.read()\n",
    "        if not ret:\n",
    "            break\n",
    "\n",
    "        # FPS calculation\n",
    "        frame_count += 1\n",
    "        if time.time() - start_time >= 1:\n",
    "            fps = frame_count / (time.time() - start_time)\n",
    "            frame_count = 0\n",
    "            start_time = time.time()\n",
    "\n",
    "        # make detections\n",
    "        image, results = mediapipe_detection(frame, holistic)\n",
    "\n",
    "        # Draw landmarks\n",
    "        # draw_landmarks(image, results)  # default landmarks in face hand\n",
    "        draw_style_landmarks(image, results)  # customized landmarks in face and hand\n",
    "\n",
    "        # prediction logic\n",
    "        keypoints = extract_keypoints(results)\n",
    "        sequence.append(keypoints)\n",
    "        sequence = sequence[-60:]\n",
    "        \n",
    "        if len(sequence) == 60:\n",
    "            res = loaded_model.predict(np.expand_dims(sequence, axis=0))[0]\n",
    "            print(\"Predicted Action:\", actions[np.argmax(res)])\n",
    "            res_value = max(res)\n",
    "            res_2d = [[res_value, res_value]]  # Duplicate the value to create a 2D array\n",
    "            # Append the new max(res) value to the confi and display lists\n",
    "            confi.append(res_2d)  \n",
    "            np.save('confi.npy', np.array(confi)) \n",
    "            # print(confi)\n",
    "            predictions.append(np.argmax(res))\n",
    "\n",
    "            # visualization logic\n",
    "            if np.unique(predictions[-20:])[0] == np.argmax(res):\n",
    "                if res[np.argmax(res)] > threshold:\n",
    "                    res_value = max(res)\n",
    "                    res_2d = [[res_value, res_value]]  # Duplicate the value to create a 2D array\n",
    "                    # Append the new max(res) value to the confi and display lists\n",
    "                    display.append(res_2d)\n",
    "                    np.save('display.npy', np.array(display))\n",
    "                    if len(sentence) > 0:\n",
    "                        if actions[np.argmax(res)] != sentence[-1]:\n",
    "                            sentence.append(actions[np.argmax(res)])\n",
    "                    else:\n",
    "                        sentence.append(actions[np.argmax(res)])\n",
    "\n",
    "            if len(sentence) > 3:\n",
    "                sentence = sentence[-3:]\n",
    "\n",
    "        # Viz probabilities\n",
    "        # image = prob_viz(res,actions,image,colors)\n",
    "\n",
    "        # Display FPS on the screen\n",
    "        image = cv2.flip(image, 1)\n",
    "        cv2.putText(image, f\"FPS: {round(fps, 2)}\", (0,70), cv2.FONT_HERSHEY_SIMPLEX, 1, (0, 255, 0), 2, cv2.LINE_AA)\n",
    "\n",
    "        # Draw sentence on the image\n",
    "        image = cv2.rectangle(image, (0, 0), (640, 40), (245, 117, 16), -1)\n",
    "        image = cv2.putText(image, ' '.join(sentence), (3, 30), cv2.FONT_HERSHEY_SIMPLEX, 1, (255, 255, 255), 2, cv2.LINE_AA)\n",
    "\n",
    "        # Show the frame on the screen\n",
    "        cv2.imshow('OPENCV FEED', image)\n",
    "\n",
    "        # Break the loop if 'q' is pressed\n",
    "        if cv2.waitKey(10) & 0xFF == ord('q'):\n",
    "            break\n",
    "\n",
    "    # Release the webcam and close all OpenCV windows\n",
    "    cap.release()\n",
    "    cv2.destroyAllWindows()\n"
   ]
  },
  {
   "cell_type": "code",
   "execution_count": null,
   "metadata": {},
   "outputs": [],
   "source": [
    "len(np.load('D:\\Hand Gesture Recognition\\display.npy'))"
   ]
  },
  {
   "cell_type": "code",
   "execution_count": null,
   "metadata": {},
   "outputs": [],
   "source": [
    "len(np.load('D:\\Hand Gesture Recognition\\confi.npy'))"
   ]
  },
  {
   "cell_type": "code",
   "execution_count": null,
   "metadata": {},
   "outputs": [],
   "source": [
    "import numpy as np\n",
    "import matplotlib.pyplot as plt\n",
    "\n",
    "# Load data from confi.npy and display.npy\n",
    "confi_data = np.load('confi.npy')\n",
    "display_data = np.load('display.npy')\n",
    "\n",
    "# Extract x and y coordinates for confi.npy\n",
    "confi_x = np.arange(len(confi_data))  # Generating x values as indices\n",
    "confi_y = confi_data[:, 0]  # Using the only value available\n",
    "\n",
    "# Extract x and y coordinates for display.npy\n",
    "display_x = np.arange(len(display_data))  # Generating x values as indices\n",
    "display_y = display_data[:, 0]  # Using the only value available\n",
    "\n",
    "# Plot graph for confi.npy\n",
    "plt.figure(figsize=(8, 6))\n",
    "plt.plot(confi_x, confi_y, label='Confidence', color='blue')  \n",
    "plt.xlabel('Index')\n",
    "plt.ylabel('Value')\n",
    "plt.title('Graph of Confidence from confi.npy')\n",
    "plt.legend()\n",
    "plt.grid(True)\n",
    "plt.show()\n",
    "\n",
    "# Plot graph for display.npy\n",
    "plt.figure(figsize=(8, 6))\n",
    "plt.plot(display_x, display_y, label='Display', color='red')  \n",
    "plt.xlabel('Index')\n",
    "plt.ylabel('Value')\n",
    "plt.title('Graph of Display from display.npy')\n",
    "plt.legend()\n",
    "plt.grid(True)\n",
    "plt.show()\n"
   ]
  },
  {
   "cell_type": "code",
   "execution_count": null,
   "metadata": {},
   "outputs": [],
   "source": [
    "import numpy as np\n",
    "import matplotlib.pyplot as plt\n",
    "\n",
    "# Load data from confi.npy and display.npy\n",
    "confi_data = np.load('confi.npy')\n",
    "display_data = np.load('display.npy')\n",
    "\n",
    "# Extract x and y coordinates for confi.npy\n",
    "confi_x = np.arange(len(confi_data))  # Generating x values as indices\n",
    "confi_y = confi_data[:, 0]  # Using the only value available\n",
    "\n",
    "# Extract x and y coordinates for display.npy\n",
    "display_x = np.arange(len(display_data))  # Generating x values as indices\n",
    "display_y = display_data[:, 0]  # Using the only value available\n",
    "\n",
    "# Plot both graphs in the same figure\n",
    "plt.figure(figsize=(8, 6))\n",
    "\n",
    "# Plot graph for confi.npy\n",
    "plt.plot(confi_x, confi_y, label='Confidence', color='blue')  \n",
    "\n",
    "# Plot graph for display.npy\n",
    "plt.plot(display_x, display_y, label='Display', color='red')  \n",
    "\n",
    "plt.xlabel('Display')\n",
    "plt.ylabel('Confi')\n",
    "plt.title('Graph of Confidence and Display')\n",
    "plt.legend()\n",
    "plt.grid(True)\n",
    "plt.show()\n"
   ]
  },
  {
   "cell_type": "code",
   "execution_count": null,
   "metadata": {},
   "outputs": [],
   "source": [
    "cap.release()\n",
    "cv2.destroyAllWindows()"
   ]
  },
  {
   "cell_type": "code",
   "execution_count": null,
   "metadata": {},
   "outputs": [],
   "source": [
    "max(res)"
   ]
  },
  {
   "cell_type": "code",
   "execution_count": null,
   "metadata": {},
   "outputs": [],
   "source": [
    "np.unique(predictions[-10:])[0]"
   ]
  },
  {
   "cell_type": "code",
   "execution_count": null,
   "metadata": {},
   "outputs": [],
   "source": [
    "res"
   ]
  },
  {
   "cell_type": "code",
   "execution_count": null,
   "metadata": {},
   "outputs": [],
   "source": [
    "np.argmax(res)"
   ]
  },
  {
   "cell_type": "code",
   "execution_count": null,
   "metadata": {},
   "outputs": [],
   "source": [
    "res[np.argmax(res)] > threshold"
   ]
  },
  {
   "cell_type": "code",
   "execution_count": null,
   "metadata": {},
   "outputs": [],
   "source": [
    "res[np.argmax(res)]"
   ]
  },
  {
   "cell_type": "code",
   "execution_count": null,
   "metadata": {},
   "outputs": [],
   "source": [
    "len(sentence)"
   ]
  },
  {
   "cell_type": "code",
   "execution_count": null,
   "metadata": {},
   "outputs": [],
   "source": [
    "len(sentence) > 0"
   ]
  },
  {
   "cell_type": "code",
   "execution_count": null,
   "metadata": {},
   "outputs": [],
   "source": [
    "len(sequence) == 60"
   ]
  },
  {
   "cell_type": "code",
   "execution_count": null,
   "metadata": {},
   "outputs": [],
   "source": [
    "sentence"
   ]
  },
  {
   "cell_type": "code",
   "execution_count": null,
   "metadata": {},
   "outputs": [],
   "source": [
    "actions[np.argmax(res)]"
   ]
  },
  {
   "cell_type": "code",
   "execution_count": null,
   "metadata": {},
   "outputs": [],
   "source": [
    "print(\"Argmax index:\", np.argmax(res))\n",
    "print(\"Length of actions list:\", len(actions))\n"
   ]
  },
  {
   "cell_type": "code",
   "execution_count": null,
   "metadata": {},
   "outputs": [],
   "source": [
    "actions[np.argmax(res)] != sentence[-1]"
   ]
  }
 ],
 "metadata": {
  "kernelspec": {
   "display_name": "tf2",
   "language": "python",
   "name": "python3"
  },
  "language_info": {
   "codemirror_mode": {
    "name": "ipython",
    "version": 3
   },
   "file_extension": ".py",
   "mimetype": "text/x-python",
   "name": "python",
   "nbconvert_exporter": "python",
   "pygments_lexer": "ipython3",
   "version": "3.9.18"
  }
 },
 "nbformat": 4,
 "nbformat_minor": 2
}
