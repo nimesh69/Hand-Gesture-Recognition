{
 "cells": [
  {
   "cell_type": "code",
   "execution_count": null,
   "metadata": {},
   "outputs": [],
   "source": [
    "# pip install tensorflow mediapipe scikit-learn matplotlib\n",
    "# !pip install --upgrade mediapipe\n"
   ]
  },
  {
   "cell_type": "markdown",
   "metadata": {},
   "source": [
    "Importing Necessary library for Gesture Recognition"
   ]
  },
  {
   "cell_type": "code",
   "execution_count": 1,
   "metadata": {},
   "outputs": [
    {
     "name": "stdout",
     "output_type": "stream",
     "text": [
      "WARNING:tensorflow:From c:\\Users\\Dell\\anaconda3\\envs\\tf2\\lib\\site-packages\\keras\\src\\losses.py:2976: The name tf.losses.sparse_softmax_cross_entropy is deprecated. Please use tf.compat.v1.losses.sparse_softmax_cross_entropy instead.\n",
      "\n"
     ]
    }
   ],
   "source": [
    "import cv2\n",
    "import numpy as np\n",
    "import os\n",
    "from matplotlib import pyplot as plt\n",
    "import time\n",
    "import mediapipe as mp\n",
    "from mediapipe.python.solutions import holistic\n",
    "import tensorflow as tf"
   ]
  },
  {
   "cell_type": "markdown",
   "metadata": {},
   "source": []
  },
  {
   "cell_type": "code",
   "execution_count": 2,
   "metadata": {},
   "outputs": [],
   "source": [
    "mp_drawing=mp.solutions.drawing_utils   #holistic model\n",
    "mp_holistic=mp.solutions.holistic       #drawing utilities"
   ]
  },
  {
   "cell_type": "code",
   "execution_count": 3,
   "metadata": {},
   "outputs": [],
   "source": [
    "def mediapipe_detection(image,model):\n",
    "    image = cv2.cvtColor(image, cv2.COLOR_BGR2RGB)  #color conversion BGR to RGB\n",
    "    image.flags.writeable = False                   #Image is no longer writeable\n",
    "    results = model.process(image)                  # make prediction\n",
    "    image.flags.writeable = True                    #image is now writeable\n",
    "    image = cv2.cvtColor(image, cv2.COLOR_RGB2BGR)  #color conversion again RGB to BGR\n",
    "    return image,results\n",
    "\n",
    "def draw_landmarks(image, results):\n",
    "    mp_drawing.draw_landmarks(image, results.face_landmarks, mp_holistic.FACEMESH_TESSELATION)  # Draw face connections\n",
    "    mp_drawing.draw_landmarks(image, results.pose_landmarks, mp_holistic.POSE_CONNECTIONS)  # Draw pose connections\n",
    "    mp_drawing.draw_landmarks(image, results.left_hand_landmarks, mp_holistic.HAND_CONNECTIONS) # Draw left hand connections\n",
    "    mp_drawing.draw_landmarks(image, results.right_hand_landmarks, mp_holistic.HAND_CONNECTIONS) #Draw right hand connections\n",
    "\n",
    "def draw_style_landmarks(image, results):\n",
    "    mp_drawing.draw_landmarks(image, results.face_landmarks, mp_holistic.FACEMESH_TESSELATION,\n",
    "                              mp_drawing.DrawingSpec(color=(175,13,13), thickness=1, circle_radius=1),   #color dot\n",
    "                              mp_drawing.DrawingSpec(color=(0,0,0), thickness=1, circle_radius=1)    #color line\n",
    "                              )\n",
    "    mp_drawing.draw_landmarks(image, results.pose_landmarks, mp_holistic.POSE_CONNECTIONS,\n",
    "                              mp_drawing.DrawingSpec(color=(178,16,16), thickness=2, circle_radius=4),   #color dot\n",
    "                              mp_drawing.DrawingSpec(color=(0,0,0), thickness=2, circle_radius=2)    #color line\n",
    "                              )\n",
    "    mp_drawing.draw_landmarks(image, results.left_hand_landmarks, mp_holistic.HAND_CONNECTIONS,\n",
    "                              mp_drawing.DrawingSpec(color=(0,0,0), thickness=2, circle_radius=1),   #color dot\n",
    "                              mp_drawing.DrawingSpec(color=(255,255,255), thickness=2, circle_radius=2)    #color line\n",
    "                              )\n",
    "    mp_drawing.draw_landmarks(image, results.right_hand_landmarks, mp_holistic.HAND_CONNECTIONS,\n",
    "                              mp_drawing.DrawingSpec(color=(255,255,255), thickness=2, circle_radius=1),   #color dot\n",
    "                              mp_drawing.DrawingSpec(color=(0,0,0), thickness=2, circle_radius=2)    #color line\n",
    "                              )\n"
   ]
  },
  {
   "cell_type": "code",
   "execution_count": null,
   "metadata": {},
   "outputs": [],
   "source": [
    "# pip install --upgrade mediapipe"
   ]
  },
  {
   "cell_type": "code",
   "execution_count": null,
   "metadata": {},
   "outputs": [],
   "source": [
    "# mp_holistic.POSE_CONNECTIONS\n",
    "# mp_holistic.HAND_CONNECTIONS\n",
    "# mp_holistic.FACEMESH_TESSELATION"
   ]
  },
  {
   "cell_type": "code",
   "execution_count": null,
   "metadata": {},
   "outputs": [],
   "source": [
    "# mp_drawing.draw_landmarks??"
   ]
  },
  {
   "cell_type": "markdown",
   "metadata": {},
   "source": []
  },
  {
   "cell_type": "code",
   "execution_count": null,
   "metadata": {},
   "outputs": [],
   "source": [
    "cap=cv2.VideoCapture(0)\n",
    "with mp_holistic.Holistic(min_detection_confidence=0.5, min_tracking_confidence=0.5) as holistic:\n",
    "  while cap.isOpened():\n",
    "    # Read feed\n",
    "    ret,frame=cap.read()\n",
    "    #make detections\n",
    "    image, results= mediapipe_detection(frame, holistic)\n",
    "    print(results)\n",
    "\n",
    "    # Draw landmarks\n",
    "    # draw_landmarks(image, results)  #default landmarks in face hand \n",
    "\n",
    "    draw_style_landmarks(image, results) #customized landmarks in face and hand\n",
    "    #show to screen\n",
    "    cv2.putText(image,\"Starting collecting\", (120,200), #display message in screen at position x=120 and y=200\n",
    "                cv2.FONT_HERSHEY_SIMPLEX, 1, (0,225,0), 4, cv2.LINE_AA) \n",
    "    # Flip the image horizontally\n",
    "    image = cv2.flip(image, 1)\n",
    "    cv2.imshow('OPENCV FEED',image)\n",
    "\n",
    "    if cv2.waitKey(10) & 0xFF==ord('q'):\n",
    "      break\n",
    "  cap.release()\n",
    "  cv2.destroyAllWindows()"
   ]
  },
  {
   "cell_type": "code",
   "execution_count": null,
   "metadata": {},
   "outputs": [],
   "source": [
    "# results.left_hand_landmarks.landmark"
   ]
  },
  {
   "cell_type": "code",
   "execution_count": null,
   "metadata": {},
   "outputs": [],
   "source": [
    "# results"
   ]
  },
  {
   "cell_type": "code",
   "execution_count": null,
   "metadata": {},
   "outputs": [],
   "source": [
    "# frame"
   ]
  },
  {
   "cell_type": "code",
   "execution_count": null,
   "metadata": {},
   "outputs": [],
   "source": [
    "# draw_landmarks(frame, results)"
   ]
  },
  {
   "cell_type": "code",
   "execution_count": null,
   "metadata": {},
   "outputs": [],
   "source": [
    "# plt.imshow(frame)\n",
    "# plt.imshow(cv2.cvtColor(frame, cv2.COLOR_BGR2RGB))"
   ]
  },
  {
   "cell_type": "code",
   "execution_count": null,
   "metadata": {},
   "outputs": [],
   "source": [
    "# results.left_hand_landmarks.landmark\n",
    "# len(results.pose_landmarks.landmark)\n",
    "# len(results.face_landmarks.landmark)\n",
    "# results.right_hand_landmarks.landmark"
   ]
  },
  {
   "cell_type": "code",
   "execution_count": null,
   "metadata": {},
   "outputs": [],
   "source": [
    "# pose = []\n",
    "# for res in results.pose_landmarks.landmark:\n",
    "#     test = np.array([res.x,res.y,res.z,res.visibility])\n",
    "#     pose.append(test)"
   ]
  },
  {
   "cell_type": "code",
   "execution_count": null,
   "metadata": {},
   "outputs": [],
   "source": [
    "# pose"
   ]
  },
  {
   "cell_type": "code",
   "execution_count": null,
   "metadata": {},
   "outputs": [],
   "source": [
    "# pose = np.array([[res.x,res.y,res.y,res.visibility] for res in results.pose_landmarks.landmark]).flatten() if results.pose_landmarks else np.zeros(33*4)\n",
    "# face = np.array([[res.x,res.y,res.y] for res in results.face_landmarks.landmark]).flatten() if results.face_landmarks else np.zeros(468*3)\n",
    "# lh = np.array([[res.x,res.y,res.y] for res in results.left_hand_landmarks.landmark]).flatten() if results.left_hand_landmarks else np.zeros(21*3)\n",
    "# rh = np.array([[res.x,res.y,res.y] for res in results.right_hand_landmarks.landmark]).flatten() if results.right_hand_landmarks else np.zeros(21*3)\n"
   ]
  },
  {
   "cell_type": "code",
   "execution_count": null,
   "metadata": {},
   "outputs": [],
   "source": [
    "# face"
   ]
  },
  {
   "cell_type": "code",
   "execution_count": null,
   "metadata": {},
   "outputs": [],
   "source": [
    "# np.zeros(21*3).shape"
   ]
  },
  {
   "cell_type": "markdown",
   "metadata": {},
   "source": []
  },
  {
   "cell_type": "code",
   "execution_count": 4,
   "metadata": {},
   "outputs": [],
   "source": [
    "def extract_keypoints(results):\n",
    "    pose = np.array([[res.x,res.y,res.y,res.visibility] for res in results.pose_landmarks.landmark]).flatten() if results.pose_landmarks else np.zeros(33*4)\n",
    "    face = np.array([[res.x,res.y,res.y] for res in results.face_landmarks.landmark]).flatten() if results.face_landmarks else np.zeros(468*3)\n",
    "    lh = np.array([[res.x,res.y,res.y] for res in results.left_hand_landmarks.landmark]).flatten() if results.left_hand_landmarks else np.zeros(21*3)\n",
    "    rh = np.array([[res.x,res.y,res.y] for res in results.right_hand_landmarks.landmark]).flatten() if results.right_hand_landmarks else np.zeros(21*3)\n",
    "    return np.concatenate([pose,face,lh,rh])"
   ]
  },
  {
   "cell_type": "code",
   "execution_count": null,
   "metadata": {},
   "outputs": [],
   "source": [
    "# result_test=extract_keypoints(results)  #keypoint in result_test"
   ]
  },
  {
   "cell_type": "code",
   "execution_count": null,
   "metadata": {},
   "outputs": [],
   "source": [
    "# np.save('0',result_test) #saving file"
   ]
  },
  {
   "cell_type": "code",
   "execution_count": null,
   "metadata": {},
   "outputs": [],
   "source": [
    "# np.load('0.npy') #display here file"
   ]
  },
  {
   "cell_type": "code",
   "execution_count": null,
   "metadata": {},
   "outputs": [],
   "source": [
    "# extract_keypoints(results).shape"
   ]
  },
  {
   "cell_type": "markdown",
   "metadata": {},
   "source": []
  },
  {
   "cell_type": "code",
   "execution_count": 5,
   "metadata": {},
   "outputs": [],
   "source": [
    "#path for exported data, numpy arrays\n",
    "DATA_PATH = os.path.join('D:\\Frame_Data')\n",
    "# IMAGES_PATH= os.path.join('Frame_collection')\n",
    "#action that we are creating and detect\n",
    "# actions=np.array(['Aausadi','Ambulance','Bathroom','Be Careful','Bleeding','Call','Dhanebad','Doctor','Dont Understand','Eklopan',\n",
    "#                   'Emergency','Firstaid','Good Morning','Happy','Heart_attack','Hello','Help','Hospital','Name','Need','Nice To Meet You',\n",
    "#                   'Oxygen','Pain','Please','Police','Relax','Sign','Slowly','Sorry','What','Yes','You'])\n",
    "actions=np.array(['Ambulance','Bathroom','Be Careful','Bleeding','Good Morning','Help','Name','Relax','Slowly'])\n",
    "\n",
    "\n",
    "#thirty videos worth of data\n",
    "no_sequences = 50\n",
    "\n",
    "#videos are going to be 60 frames in length\n",
    "sequence_length = 60"
   ]
  },
  {
   "cell_type": "code",
   "execution_count": null,
   "metadata": {},
   "outputs": [],
   "source": [
    "for action in actions:\n",
    "    for sequence in range(no_sequences):\n",
    "        try:\n",
    "            os.makedirs(os.path.join(DATA_PATH, action, str(sequence)))\n",
    "            # os.makedirs(os.path.join(IMAGES_PATH,action,str(sequence)))\n",
    "        except:\n",
    "            pass\n"
   ]
  },
  {
   "cell_type": "code",
   "execution_count": null,
   "metadata": {},
   "outputs": [],
   "source": [
    "cap=cv2.VideoCapture(0)\n",
    "#setup mediapipe model\n",
    "with mp_holistic.Holistic(min_detection_confidence=0.5, min_tracking_confidence=0.5) as holistic:\n",
    "  \n",
    "# loop through actions\n",
    "  for action in actions:\n",
    "        # loop through sequences\n",
    "        for sequence in range(no_sequences):\n",
    "            # loop through number of sequences length\n",
    "            for frame_num in range(sequence_length):\n",
    "        # Read feed\n",
    "                ret,frame=cap.read()\n",
    "                #make detections\n",
    "                image, results= mediapipe_detection(frame, holistic)\n",
    "                # print(results)\n",
    "\n",
    "                # Draw landmarks\n",
    "                # draw_landmarks(image, results)  #default landmarks in face hand \n",
    "                draw_style_landmarks(image, results) #customized landmarks in face and hand\n",
    "                \n",
    "\n",
    "                if frame_num == 0:\n",
    "                    cv2.putText(image,\"Starting collecting\", (120,200), #display message in screen at position x=120 and y=200\n",
    "                                cv2.FONT_HERSHEY_SIMPLEX, 1, (0,225,0), 4, cv2.LINE_AA) #using font style 1=size (0,255,0)=color and 4=line width\n",
    "                    cv2.putText(image,'Collecting frames for {}'.format(action,sequence),(15,12), #same\n",
    "                                cv2.FONT_HERSHEY_SIMPLEX, 0.5, (0,0,255),1, cv2.LINE_AA) #same\n",
    "                    # image = cv2.flip(image, 1)\n",
    "                    cv2.imshow('OPENCV FEED',image)\n",
    "                    cv2.waitKey(2000) #break for each video\n",
    "                else:\n",
    "                    cv2.putText(image, 'Collecting frames for {} Video Number {}'.format(action,sequence),(15,12), #same for if frame_num!=0\n",
    "                                cv2.FONT_HERSHEY_SIMPLEX, 0.5, (0,0,255),1,cv2.LINE_AA)\n",
    "                    # image = cv2.flip(image, 1)\n",
    "                    cv2.imshow('OPENCV FEED',image)\n",
    "                    \n",
    "\n",
    "                #exporting keypoints in respective folders\n",
    "                keypoints = extract_keypoints(results)\n",
    "                npy_path = os.path.join(DATA_PATH, action, str(sequence), str(frame_num))\n",
    "                np.save(npy_path,keypoints)\n",
    "\n",
    "\n",
    "                \n",
    "                # Save frames as jpg in respective folders\n",
    "                img_path = os.path.join(IMAGES_PATH, action, str(sequence), str(frame_num) + '.jpg')\n",
    "                cv2.imwrite(img_path, image)\n",
    "                #show to screen\n",
    "                # print(\"frame_num:\", frame_num)\n",
    "\n",
    "\n",
    "                key = cv2.waitKey(10)\n",
    "                if key == ord('q') or key == ord('Q'):\n",
    "                    cap.release()\n",
    "                    cv2.destroyAllWindows()\n",
    "                    raise SystemExit(\"Program terminated by user\")  # Raise SystemExit to exit gracefully\n",
    "\n",
    "                # if cv2.waitKey(10) & 0xFF==ord('q') or 0xFF==ord('Q'):  #for quiting program\n",
    "                #     break\n",
    "                \n",
    "                \n",
    "  cap.release()\n",
    "  cv2.destroyAllWindows()"
   ]
  },
  {
   "cell_type": "code",
   "execution_count": null,
   "metadata": {},
   "outputs": [],
   "source": [
    "cap.release()\n",
    "cv2.destroyAllWindows()"
   ]
  },
  {
   "cell_type": "code",
   "execution_count": null,
   "metadata": {},
   "outputs": [],
   "source": [
    "# len(np.load(\"MP_Data/hello/0/0.npy\"))"
   ]
  },
  {
   "cell_type": "markdown",
   "metadata": {},
   "source": []
  },
  {
   "cell_type": "code",
   "execution_count": 6,
   "metadata": {},
   "outputs": [],
   "source": [
    "from sklearn.model_selection import train_test_split\n",
    "from keras.utils import to_categorical"
   ]
  },
  {
   "cell_type": "code",
   "execution_count": 7,
   "metadata": {},
   "outputs": [],
   "source": [
    "label_map= {label:num for num, label in enumerate(actions)}"
   ]
  },
  {
   "cell_type": "code",
   "execution_count": 8,
   "metadata": {},
   "outputs": [
    {
     "data": {
      "text/plain": [
       "{'Ambulance': 0,\n",
       " 'Bathroom': 1,\n",
       " 'Be Careful': 2,\n",
       " 'Bleeding': 3,\n",
       " 'Good Morning': 4,\n",
       " 'Help': 5,\n",
       " 'Name': 6,\n",
       " 'Relax': 7,\n",
       " 'Slowly': 8}"
      ]
     },
     "execution_count": 8,
     "metadata": {},
     "output_type": "execute_result"
    }
   ],
   "source": [
    "label_map"
   ]
  },
  {
   "cell_type": "code",
   "execution_count": 9,
   "metadata": {},
   "outputs": [],
   "source": [
    "sequences, labels = [], []\n",
    "for action in actions:\n",
    "    for sequence in range(no_sequences):\n",
    "        window = []\n",
    "        for frame_num in range(sequence_length):\n",
    "            res = np.load(os.path.join(DATA_PATH, action, str(sequence), \"{}.npy\".format(frame_num)))\n",
    "            window.append(res)\n",
    "        sequences.append(window)\n",
    "        labels.append(label_map[action])"
   ]
  },
  {
   "cell_type": "code",
   "execution_count": 9,
   "metadata": {},
   "outputs": [],
   "source": [
    "import os\n",
    "\n",
    "sequences, labels = [], []\n",
    "\n",
    "# Iterate through actions\n",
    "for action in actions:\n",
    "    action_path = os.path.join(DATA_PATH, action)\n",
    "    label = label_map[action]\n",
    "\n",
    "    # Iterate through sequences\n",
    "    for sequence in range(no_sequences):\n",
    "        window = []\n",
    "\n",
    "        # Load all frames of the sequence at once\n",
    "        sequence_frames = [np.load(os.path.join(action_path, str(sequence), \"{}.npy\".format(frame_num))) \n",
    "                           for frame_num in range(sequence_length)]\n",
    "\n",
    "        # Append the sequence frames to the window\n",
    "        window.extend(sequence_frames)\n",
    "\n",
    "        # Append the window to the sequences list\n",
    "        sequences.append(window)\n",
    "\n",
    "        # Append the label to the labels list\n",
    "        labels.append(label)\n"
   ]
  },
  {
   "cell_type": "code",
   "execution_count": null,
   "metadata": {},
   "outputs": [],
   "source": [
    "np.array(sequences).shape"
   ]
  },
  {
   "cell_type": "code",
   "execution_count": null,
   "metadata": {},
   "outputs": [],
   "source": [
    "# np.array(labels).shape"
   ]
  },
  {
   "cell_type": "code",
   "execution_count": 10,
   "metadata": {},
   "outputs": [],
   "source": [
    "X = np.array(sequences)"
   ]
  },
  {
   "cell_type": "code",
   "execution_count": null,
   "metadata": {},
   "outputs": [],
   "source": [
    "X.shape"
   ]
  },
  {
   "cell_type": "code",
   "execution_count": 11,
   "metadata": {},
   "outputs": [],
   "source": [
    "y = to_categorical(labels).astype(int)"
   ]
  },
  {
   "cell_type": "code",
   "execution_count": null,
   "metadata": {},
   "outputs": [],
   "source": [
    "y.shape"
   ]
  },
  {
   "cell_type": "code",
   "execution_count": 12,
   "metadata": {},
   "outputs": [],
   "source": [
    "# X_train, X_test, y_train, y_test = train_test_split(X, y, test_size=0.05)\n",
    "from sklearn.model_selection import train_test_split\n",
    "\n",
    "# Assuming you have X (features) and y (labels)\n",
    "X_train, X_val, y_train, y_val = train_test_split(X, y, test_size=0.25, random_state=42)\n",
    "\n",
    "# Now X_train and y_train are the training set, and X_val and y_val are the validation set\n"
   ]
  },
  {
   "cell_type": "markdown",
   "metadata": {},
   "source": []
  },
  {
   "cell_type": "code",
   "execution_count": 13,
   "metadata": {},
   "outputs": [
    {
     "name": "stdout",
     "output_type": "stream",
     "text": [
      "Length of data in X_train: 337\n",
      "Length of data in X_train: 113\n",
      "Length of data in X_train: 337\n",
      "Length of data in X_train: 113\n"
     ]
    }
   ],
   "source": [
    "print(\"Length of data in X_train:\", len(X_train))\n",
    "print(\"Length of data in X_train:\", len(X_val))\n",
    "print(\"Length of data in X_train:\", len(y_train))\n",
    "print(\"Length of data in X_train:\", len(y_val))\n"
   ]
  },
  {
   "cell_type": "code",
   "execution_count": 1,
   "metadata": {},
   "outputs": [
    {
     "name": "stdout",
     "output_type": "stream",
     "text": [
      "WARNING:tensorflow:From c:\\Users\\Dell\\anaconda3\\envs\\tf2\\lib\\site-packages\\keras\\src\\losses.py:2976: The name tf.losses.sparse_softmax_cross_entropy is deprecated. Please use tf.compat.v1.losses.sparse_softmax_cross_entropy instead.\n",
      "\n"
     ]
    }
   ],
   "source": [
    "from keras.models import Sequential\n",
    "from keras.layers import LSTM, Dense, Dropout,Bidirectional,BatchNormalization\n",
    "from keras.callbacks import TensorBoard\n",
    "from keras.regularizers import l2"
   ]
  },
  {
   "cell_type": "code",
   "execution_count": 15,
   "metadata": {},
   "outputs": [],
   "source": [
    "log_dir = os.path.join('Logs')\n",
    "tb_callback = TensorBoard(log_dir=log_dir)"
   ]
  },
  {
   "cell_type": "code",
   "execution_count": 3,
   "metadata": {},
   "outputs": [
    {
     "name": "stdout",
     "output_type": "stream",
     "text": [
      "Model: \"sequential_1\"\n",
      "_________________________________________________________________\n",
      " Layer (type)                Output Shape              Param #   \n",
      "=================================================================\n",
      " bidirectional_2 (Bidirecti  (None, 60, 256)           1833984   \n",
      " onal)                                                           \n",
      "                                                                 \n",
      " bidirectional_3 (Bidirecti  (None, 60, 512)           1050624   \n",
      " onal)                                                           \n",
      "                                                                 \n",
      " lstm_6 (LSTM)               (None, 60, 512)           2099200   \n",
      "                                                                 \n",
      " lstm_7 (LSTM)               (None, 256)               787456    \n",
      "                                                                 \n",
      " dense_4 (Dense)             (None, 256)               65792     \n",
      "                                                                 \n",
      " dropout_1 (Dropout)         (None, 256)               0         \n",
      "                                                                 \n",
      " dense_5 (Dense)             (None, 128)               32896     \n",
      "                                                                 \n",
      " dense_6 (Dense)             (None, 64)                8256      \n",
      "                                                                 \n",
      " dense_7 (Dense)             (None, 32)                2080      \n",
      "                                                                 \n",
      "=================================================================\n",
      "Total params: 5880288 (22.43 MB)\n",
      "Trainable params: 5880288 (22.43 MB)\n",
      "Non-trainable params: 0 (0.00 Byte)\n",
      "_________________________________________________________________\n"
     ]
    }
   ],
   "source": [
    "# model = Sequential()\n",
    "# model.add(LSTM(64, return_sequences=True, activation='relu', input_shape=(60,1662)))\n",
    "# model.add(LSTM(128, return_sequences=True, activation='relu'))\n",
    "# model.add(LSTM(64, return_sequences=False, activation='relu'))\n",
    "# model.add(Dense(64, activation='relu'))\n",
    "# model.add(Dense(32, activation='relu'))\n",
    "# model.add(Dense(actions.shape[0], activation='softmax'))\n",
    "\n",
    "\n",
    "# model = Sequential()\n",
    "# model.add(LSTM(64, return_sequences=True, activation='relu', input_shape=(60, 1662)))\n",
    "# model.add(LSTM(128, return_sequences=True, activation='relu'))\n",
    "# model.add(LSTM(256, return_sequences=True, activation='relu'))  # Additional LSTM layer\n",
    "# model.add(LSTM(128, return_sequences=False, activation='relu'))\n",
    "# # model.add(LSTM(64, return_sequences=True, activation='relu', kernel_regularizer=l2(0.01)))\n",
    "# model.add(Dense(128, activation='relu'))  # Additional Dense layer\n",
    "# model.add(Dropout(0.5))\n",
    "# model.add(Dense(64, activation='relu'))\n",
    "# model.add(Dense(32, activation='relu'))\n",
    "# model.add(Dense(actions.shape[0], activation='softmax'))\n",
    "\n",
    "\n",
    "# model = Sequential()\n",
    "# model.add(LSTM(64, return_sequences=True, activation='relu', input_shape=(60, 1662)))\n",
    "# model.add(LSTM(128, return_sequences=True, activation='relu'))\n",
    "# model.add(LSTM(64, return_sequences=False, activation='relu'))\n",
    "# model.add(Dense(64, activation='relu'))\n",
    "# model.add(Dropout(0.5))  # Adding dropout to prevent overfitting\n",
    "# model.add(Dense(32, activation='relu'))\n",
    "# model.add(Dropout(0.5))  # Adding dropout to prevent overfitting\n",
    "# model.add(Dense(actions.shape[0], activation='softmax'))\n",
    "\n",
    "\n",
    "# from keras.models import Sequential\n",
    "# from keras.layers import LSTM, Dense, Bidirectional, Dropout, BatchNormalization\n",
    "\n",
    "\n",
    "\n",
    "\n",
    "model = Sequential()\n",
    "model.add(Bidirectional(LSTM(128, return_sequences=True, activation='relu'), input_shape=(60, 1662)))\n",
    "model.add(Bidirectional(LSTM(256, return_sequences=True, activation='relu')))\n",
    "model.add(LSTM(512,return_sequences=True,activation='relu'))\n",
    "model.add(LSTM(256, return_sequences=False, activation='relu'))\n",
    "model.add(Dense(256, activation='relu'))\n",
    "model.add(Dropout(0.5))  # Adjust dropout rate based on experimentation\n",
    "# model.add(BatchNormalization())\n",
    "# model.add(Dropout(0.5))\n",
    "model.add(Dense(128, activation='relu'))\n",
    "model.add(Dense(64, activation='relu'))\n",
    "model.add(Dense(32, activation='softmax'))\n",
    "model.summary()"
   ]
  },
  {
   "cell_type": "code",
   "execution_count": null,
   "metadata": {},
   "outputs": [],
   "source": [
    "res = [0.6,1.5,0.5]"
   ]
  },
  {
   "cell_type": "code",
   "execution_count": null,
   "metadata": {},
   "outputs": [],
   "source": [
    "np.argmax(res)\n"
   ]
  },
  {
   "cell_type": "code",
   "execution_count": 17,
   "metadata": {},
   "outputs": [
    {
     "data": {
      "text/plain": [
       "[9]"
      ]
     },
     "execution_count": 17,
     "metadata": {},
     "output_type": "execute_result"
    }
   ],
   "source": [
    "[actions.shape[0]]\n"
   ]
  },
  {
   "cell_type": "code",
   "execution_count": 18,
   "metadata": {},
   "outputs": [],
   "source": [
    "# model.compile(optimizer='Adam', loss='categorical_crossentropy', metrics=['categorical_accuracy'])\n",
    "\n",
    "\n",
    "from keras.optimizers import Adam\n",
    "\n",
    "model.compile(optimizer=Adam(learning_rate=0.00001), loss='categorical_crossentropy', metrics=['categorical_accuracy'])\n",
    "\n"
   ]
  },
  {
   "cell_type": "code",
   "execution_count": 19,
   "metadata": {},
   "outputs": [
    {
     "name": "stdout",
     "output_type": "stream",
     "text": [
      "Model: \"sequential\"\n",
      "_________________________________________________________________\n",
      " Layer (type)                Output Shape              Param #   \n",
      "=================================================================\n",
      " bidirectional (Bidirection  (None, 60, 1024)          8908800   \n",
      " al)                                                             \n",
      "                                                                 \n",
      " bidirectional_1 (Bidirecti  (None, 60, 512)           2623488   \n",
      " onal)                                                           \n",
      "                                                                 \n",
      " lstm_2 (LSTM)               (None, 60, 128)           328192    \n",
      "                                                                 \n",
      " lstm_3 (LSTM)               (None, 256)               394240    \n",
      "                                                                 \n",
      " dense (Dense)               (None, 128)               32896     \n",
      "                                                                 \n",
      " dropout (Dropout)           (None, 128)               0         \n",
      "                                                                 \n",
      " batch_normalization (Batch  (None, 128)               512       \n",
      " Normalization)                                                  \n",
      "                                                                 \n",
      " dense_1 (Dense)             (None, 128)               16512     \n",
      "                                                                 \n",
      " dense_2 (Dense)             (None, 64)                8256      \n",
      "                                                                 \n",
      " dense_3 (Dense)             (None, 9)                 585       \n",
      "                                                                 \n",
      "=================================================================\n",
      "Total params: 12313481 (46.97 MB)\n",
      "Trainable params: 12313225 (46.97 MB)\n",
      "Non-trainable params: 256 (1.00 KB)\n",
      "_________________________________________________________________\n"
     ]
    }
   ],
   "source": [
    "model.summary()"
   ]
  },
  {
   "cell_type": "code",
   "execution_count": null,
   "metadata": {},
   "outputs": [],
   "source": [
    "# from tensorflow.keras import callbacks\n",
    "\n",
    "# early_stopping = callbacks.EarlyStopping(\n",
    "#     min_delta = 0.001,\n",
    "#     patience = 20,\n",
    "#     restore_best_weights = True\n",
    "# )\n",
    "\n",
    "from keras.callbacks import EarlyStopping\n",
    "early_stopping = EarlyStopping(monitor='val_loss', patience=20, restore_best_weights=True)\n",
    "# early_stopping = EarlyStopping(monitor='val_loss', patience=10, restore_best_weights=True)\n"
   ]
  },
  {
   "cell_type": "code",
   "execution_count": null,
   "metadata": {},
   "outputs": [],
   "source": [
    "# pip install garbage collector"
   ]
  },
  {
   "cell_type": "code",
   "execution_count": null,
   "metadata": {},
   "outputs": [],
   "source": [
    "# import garbage as gc\n",
    "# val = 30\n",
    "# collections = 25\n",
    "# default_collections = 23\n",
    "# gc.collect(val,collections,default_collect)\n",
    "# tf.keras.backend.clear_session()\n",
    "# physical_devices = tf.config.list_physical_devices('GPU')\n",
    "# for device in physical_devices:\n",
    "#     tf.config.experimental.set_memory_growth(device, True)\n",
    "# physical_devices"
   ]
  },
  {
   "cell_type": "code",
   "execution_count": 20,
   "metadata": {},
   "outputs": [
    {
     "name": "stdout",
     "output_type": "stream",
     "text": [
      "Epoch 1/800\n",
      "WARNING:tensorflow:From c:\\Users\\Dell\\anaconda3\\envs\\tf2\\lib\\site-packages\\keras\\src\\utils\\tf_utils.py:492: The name tf.ragged.RaggedTensorValue is deprecated. Please use tf.compat.v1.ragged.RaggedTensorValue instead.\n",
      "\n",
      "WARNING:tensorflow:From c:\\Users\\Dell\\anaconda3\\envs\\tf2\\lib\\site-packages\\keras\\src\\engine\\base_layer_utils.py:384: The name tf.executing_eagerly_outside_functions is deprecated. Please use tf.compat.v1.executing_eagerly_outside_functions instead.\n",
      "\n",
      "3/3 [==============================] - 32s 6s/step - loss: 2.2776 - categorical_accuracy: 0.1365 - val_loss: 2.2022 - val_categorical_accuracy: 0.0708\n",
      "Epoch 2/800\n",
      "3/3 [==============================] - 16s 5s/step - loss: 2.2099 - categorical_accuracy: 0.1721 - val_loss: 2.1991 - val_categorical_accuracy: 0.0708\n",
      "Epoch 3/800\n",
      "3/3 [==============================] - 15s 5s/step - loss: 2.1820 - categorical_accuracy: 0.1484 - val_loss: 2.1970 - val_categorical_accuracy: 0.0708\n",
      "Epoch 4/800\n",
      "3/3 [==============================] - 15s 5s/step - loss: 2.1353 - categorical_accuracy: 0.1602 - val_loss: 2.1957 - val_categorical_accuracy: 0.0708\n",
      "Epoch 5/800\n",
      "3/3 [==============================] - 14s 5s/step - loss: 2.0958 - categorical_accuracy: 0.1751 - val_loss: 2.1921 - val_categorical_accuracy: 0.0708\n",
      "Epoch 6/800\n",
      "3/3 [==============================] - 14s 5s/step - loss: 2.1221 - categorical_accuracy: 0.1543 - val_loss: 2.1897 - val_categorical_accuracy: 0.0708\n",
      "Epoch 7/800\n",
      "3/3 [==============================] - 13s 5s/step - loss: 2.0414 - categorical_accuracy: 0.2047 - val_loss: 2.1868 - val_categorical_accuracy: 0.0708\n",
      "Epoch 8/800\n",
      "3/3 [==============================] - 13s 5s/step - loss: 2.0188 - categorical_accuracy: 0.2404 - val_loss: 2.1830 - val_categorical_accuracy: 0.0885\n",
      "Epoch 9/800\n",
      "3/3 [==============================] - 13s 5s/step - loss: 2.0104 - categorical_accuracy: 0.2226 - val_loss: 2.1821 - val_categorical_accuracy: 0.0885\n",
      "Epoch 10/800\n",
      "3/3 [==============================] - 13s 5s/step - loss: 1.9642 - categorical_accuracy: 0.2582 - val_loss: 2.1694 - val_categorical_accuracy: 0.0973\n",
      "Epoch 11/800\n",
      "3/3 [==============================] - 14s 5s/step - loss: 1.9604 - categorical_accuracy: 0.2641 - val_loss: 2.1656 - val_categorical_accuracy: 0.0973\n",
      "Epoch 12/800\n",
      "3/3 [==============================] - 13s 5s/step - loss: 1.9447 - categorical_accuracy: 0.2552 - val_loss: 2.1688 - val_categorical_accuracy: 0.0973\n",
      "Epoch 13/800\n",
      "3/3 [==============================] - 13s 5s/step - loss: 1.8981 - categorical_accuracy: 0.2878 - val_loss: 2.1599 - val_categorical_accuracy: 0.1062\n",
      "Epoch 14/800\n",
      "3/3 [==============================] - 14s 5s/step - loss: 1.9096 - categorical_accuracy: 0.2730 - val_loss: 2.1593 - val_categorical_accuracy: 0.1062\n",
      "Epoch 15/800\n",
      "3/3 [==============================] - 14s 5s/step - loss: 1.8561 - categorical_accuracy: 0.3027 - val_loss: 2.1491 - val_categorical_accuracy: 0.1770\n",
      "Epoch 16/800\n",
      "3/3 [==============================] - 13s 5s/step - loss: 1.8381 - categorical_accuracy: 0.2849 - val_loss: 2.1450 - val_categorical_accuracy: 0.1858\n",
      "Epoch 17/800\n",
      "3/3 [==============================] - 13s 5s/step - loss: 1.8249 - categorical_accuracy: 0.3323 - val_loss: 2.1461 - val_categorical_accuracy: 0.1770\n",
      "Epoch 18/800\n",
      "3/3 [==============================] - 14s 5s/step - loss: 1.7979 - categorical_accuracy: 0.3234 - val_loss: 2.1396 - val_categorical_accuracy: 0.2035\n",
      "Epoch 19/800\n",
      "3/3 [==============================] - 14s 5s/step - loss: 1.7779 - categorical_accuracy: 0.3472 - val_loss: 2.1362 - val_categorical_accuracy: 0.2124\n",
      "Epoch 20/800\n",
      "3/3 [==============================] - 14s 5s/step - loss: 1.7883 - categorical_accuracy: 0.3472 - val_loss: 2.1310 - val_categorical_accuracy: 0.2389\n",
      "Epoch 21/800\n",
      "3/3 [==============================] - 13s 5s/step - loss: 1.7665 - categorical_accuracy: 0.3412 - val_loss: 2.1037 - val_categorical_accuracy: 0.2478\n",
      "Epoch 22/800\n",
      "3/3 [==============================] - 13s 5s/step - loss: 1.7213 - categorical_accuracy: 0.3798 - val_loss: 2.1316 - val_categorical_accuracy: 0.2035\n",
      "Epoch 23/800\n",
      "3/3 [==============================] - 13s 4s/step - loss: 1.7247 - categorical_accuracy: 0.3650 - val_loss: 2.1234 - val_categorical_accuracy: 0.2301\n",
      "Epoch 24/800\n",
      "3/3 [==============================] - 14s 5s/step - loss: 1.7065 - categorical_accuracy: 0.3739 - val_loss: 2.1071 - val_categorical_accuracy: 0.2655\n",
      "Epoch 25/800\n",
      "3/3 [==============================] - 14s 5s/step - loss: 1.6935 - categorical_accuracy: 0.4095 - val_loss: 2.1213 - val_categorical_accuracy: 0.2743\n",
      "Epoch 26/800\n",
      "3/3 [==============================] - 14s 5s/step - loss: 1.7039 - categorical_accuracy: 0.3858 - val_loss: 2.0880 - val_categorical_accuracy: 0.3186\n",
      "Epoch 27/800\n",
      "3/3 [==============================] - 14s 5s/step - loss: 1.6608 - categorical_accuracy: 0.4184 - val_loss: 2.0896 - val_categorical_accuracy: 0.4159\n",
      "Epoch 28/800\n",
      "3/3 [==============================] - 14s 5s/step - loss: 1.6800 - categorical_accuracy: 0.4095 - val_loss: 2.0850 - val_categorical_accuracy: 0.4336\n",
      "Epoch 29/800\n",
      "3/3 [==============================] - 14s 5s/step - loss: 1.6296 - categorical_accuracy: 0.4243 - val_loss: 2.0573 - val_categorical_accuracy: 0.3274\n",
      "Epoch 30/800\n",
      "3/3 [==============================] - 14s 5s/step - loss: 1.6336 - categorical_accuracy: 0.4392 - val_loss: 2.0757 - val_categorical_accuracy: 0.3540\n",
      "Epoch 31/800\n",
      "3/3 [==============================] - 14s 5s/step - loss: 1.6135 - categorical_accuracy: 0.4362 - val_loss: 2.0535 - val_categorical_accuracy: 0.4159\n",
      "Epoch 32/800\n",
      "3/3 [==============================] - 14s 5s/step - loss: 1.5981 - categorical_accuracy: 0.4243 - val_loss: 2.0462 - val_categorical_accuracy: 0.4602\n",
      "Epoch 33/800\n",
      "3/3 [==============================] - 14s 5s/step - loss: 1.5811 - categorical_accuracy: 0.4570 - val_loss: 2.0726 - val_categorical_accuracy: 0.5044\n",
      "Epoch 34/800\n",
      "3/3 [==============================] - 14s 5s/step - loss: 1.5815 - categorical_accuracy: 0.4807 - val_loss: 2.0252 - val_categorical_accuracy: 0.5221\n",
      "Epoch 35/800\n",
      "3/3 [==============================] - 14s 5s/step - loss: 1.5565 - categorical_accuracy: 0.5015 - val_loss: 2.0306 - val_categorical_accuracy: 0.5398\n",
      "Epoch 36/800\n",
      "3/3 [==============================] - 14s 5s/step - loss: 1.5414 - categorical_accuracy: 0.4718 - val_loss: 2.0396 - val_categorical_accuracy: 0.4956\n",
      "Epoch 37/800\n",
      "3/3 [==============================] - 14s 5s/step - loss: 1.5196 - categorical_accuracy: 0.4896 - val_loss: 1.9964 - val_categorical_accuracy: 0.5752\n",
      "Epoch 38/800\n",
      "3/3 [==============================] - 13s 5s/step - loss: 1.4996 - categorical_accuracy: 0.5223 - val_loss: 2.0252 - val_categorical_accuracy: 0.6106\n",
      "Epoch 39/800\n",
      "3/3 [==============================] - 13s 5s/step - loss: 1.5047 - categorical_accuracy: 0.5223 - val_loss: 2.0096 - val_categorical_accuracy: 0.6106\n",
      "Epoch 40/800\n",
      "3/3 [==============================] - 14s 5s/step - loss: 1.4841 - categorical_accuracy: 0.5312 - val_loss: 1.9817 - val_categorical_accuracy: 0.6283\n",
      "Epoch 41/800\n",
      "3/3 [==============================] - 13s 5s/step - loss: 1.4839 - categorical_accuracy: 0.5282 - val_loss: 1.9638 - val_categorical_accuracy: 0.5664\n",
      "Epoch 42/800\n",
      "3/3 [==============================] - 13s 5s/step - loss: 1.4854 - categorical_accuracy: 0.5312 - val_loss: 1.9664 - val_categorical_accuracy: 0.6106\n",
      "Epoch 43/800\n",
      "3/3 [==============================] - 13s 5s/step - loss: 1.4676 - categorical_accuracy: 0.5519 - val_loss: 1.9307 - val_categorical_accuracy: 0.6549\n",
      "Epoch 44/800\n",
      "3/3 [==============================] - 14s 5s/step - loss: 1.4550 - categorical_accuracy: 0.5786 - val_loss: 1.9583 - val_categorical_accuracy: 0.6372\n",
      "Epoch 45/800\n",
      "3/3 [==============================] - 14s 5s/step - loss: 1.4199 - categorical_accuracy: 0.5401 - val_loss: 1.9041 - val_categorical_accuracy: 0.7080\n",
      "Epoch 46/800\n",
      "3/3 [==============================] - 13s 4s/step - loss: 1.4438 - categorical_accuracy: 0.5401 - val_loss: 1.9557 - val_categorical_accuracy: 0.6726\n",
      "Epoch 47/800\n",
      "3/3 [==============================] - 13s 5s/step - loss: 1.4148 - categorical_accuracy: 0.5579 - val_loss: 1.9161 - val_categorical_accuracy: 0.7345\n",
      "Epoch 48/800\n",
      "3/3 [==============================] - 13s 5s/step - loss: 1.3752 - categorical_accuracy: 0.5964 - val_loss: 1.9110 - val_categorical_accuracy: 0.7168\n",
      "Epoch 49/800\n",
      "3/3 [==============================] - 13s 5s/step - loss: 1.3854 - categorical_accuracy: 0.5964 - val_loss: 1.8786 - val_categorical_accuracy: 0.7522\n",
      "Epoch 50/800\n",
      "3/3 [==============================] - 13s 5s/step - loss: 1.3640 - categorical_accuracy: 0.6053 - val_loss: 1.8686 - val_categorical_accuracy: 0.7345\n",
      "Epoch 51/800\n",
      "3/3 [==============================] - 14s 5s/step - loss: 1.3580 - categorical_accuracy: 0.5994 - val_loss: 1.8683 - val_categorical_accuracy: 0.7611\n",
      "Epoch 52/800\n",
      "3/3 [==============================] - 13s 5s/step - loss: 1.3569 - categorical_accuracy: 0.6172 - val_loss: 1.8404 - val_categorical_accuracy: 0.7345\n",
      "Epoch 53/800\n",
      "3/3 [==============================] - 13s 5s/step - loss: 1.3265 - categorical_accuracy: 0.6380 - val_loss: 1.8567 - val_categorical_accuracy: 0.8053\n",
      "Epoch 54/800\n",
      "3/3 [==============================] - 13s 5s/step - loss: 1.3083 - categorical_accuracy: 0.6588 - val_loss: 1.8082 - val_categorical_accuracy: 0.7522\n",
      "Epoch 55/800\n",
      "3/3 [==============================] - 14s 5s/step - loss: 1.2981 - categorical_accuracy: 0.6677 - val_loss: 1.8475 - val_categorical_accuracy: 0.7788\n",
      "Epoch 56/800\n",
      "3/3 [==============================] - 13s 5s/step - loss: 1.3068 - categorical_accuracy: 0.6499 - val_loss: 1.7994 - val_categorical_accuracy: 0.7699\n",
      "Epoch 57/800\n",
      "3/3 [==============================] - 13s 5s/step - loss: 1.3101 - categorical_accuracy: 0.6083 - val_loss: 1.7806 - val_categorical_accuracy: 0.7876\n",
      "Epoch 58/800\n",
      "3/3 [==============================] - 14s 5s/step - loss: 1.2940 - categorical_accuracy: 0.6469 - val_loss: 1.7824 - val_categorical_accuracy: 0.8053\n",
      "Epoch 59/800\n",
      "3/3 [==============================] - 14s 5s/step - loss: 1.2730 - categorical_accuracy: 0.6855 - val_loss: 1.7876 - val_categorical_accuracy: 0.8230\n",
      "Epoch 60/800\n",
      "3/3 [==============================] - 13s 5s/step - loss: 1.2615 - categorical_accuracy: 0.6736 - val_loss: 1.7875 - val_categorical_accuracy: 0.8673\n",
      "Epoch 61/800\n",
      "3/3 [==============================] - 13s 4s/step - loss: 1.2743 - categorical_accuracy: 0.6766 - val_loss: 1.7415 - val_categorical_accuracy: 0.8142\n",
      "Epoch 62/800\n",
      "3/3 [==============================] - 14s 5s/step - loss: 1.2616 - categorical_accuracy: 0.6855 - val_loss: 1.7322 - val_categorical_accuracy: 0.7965\n",
      "Epoch 63/800\n",
      "3/3 [==============================] - 13s 5s/step - loss: 1.2605 - categorical_accuracy: 0.6588 - val_loss: 1.7163 - val_categorical_accuracy: 0.8584\n",
      "Epoch 64/800\n",
      "3/3 [==============================] - 14s 5s/step - loss: 1.2466 - categorical_accuracy: 0.7122 - val_loss: 1.7312 - val_categorical_accuracy: 0.8850\n",
      "Epoch 65/800\n",
      "3/3 [==============================] - 14s 5s/step - loss: 1.2293 - categorical_accuracy: 0.7359 - val_loss: 1.7048 - val_categorical_accuracy: 0.8850\n",
      "Epoch 66/800\n",
      "3/3 [==============================] - 13s 5s/step - loss: 1.2151 - categorical_accuracy: 0.6973 - val_loss: 1.6784 - val_categorical_accuracy: 0.8496\n",
      "Epoch 67/800\n",
      "3/3 [==============================] - 13s 5s/step - loss: 1.2395 - categorical_accuracy: 0.7181 - val_loss: 1.7289 - val_categorical_accuracy: 0.9381\n",
      "Epoch 68/800\n",
      "3/3 [==============================] - 13s 5s/step - loss: 1.2591 - categorical_accuracy: 0.6884 - val_loss: 1.6424 - val_categorical_accuracy: 0.8496\n",
      "Epoch 69/800\n",
      "3/3 [==============================] - 13s 5s/step - loss: 1.2098 - categorical_accuracy: 0.6914 - val_loss: 1.7095 - val_categorical_accuracy: 0.9292\n",
      "Epoch 70/800\n",
      "3/3 [==============================] - 13s 5s/step - loss: 1.2087 - categorical_accuracy: 0.7033 - val_loss: 1.6310 - val_categorical_accuracy: 0.8584\n",
      "Epoch 71/800\n",
      "3/3 [==============================] - 13s 5s/step - loss: 1.2176 - categorical_accuracy: 0.7122 - val_loss: 1.7040 - val_categorical_accuracy: 0.9292\n",
      "Epoch 72/800\n",
      "3/3 [==============================] - 13s 5s/step - loss: 1.1992 - categorical_accuracy: 0.7211 - val_loss: 1.6353 - val_categorical_accuracy: 0.9204\n",
      "Epoch 73/800\n",
      "3/3 [==============================] - 15s 5s/step - loss: 1.1885 - categorical_accuracy: 0.7656 - val_loss: 1.6369 - val_categorical_accuracy: 0.9204\n",
      "Epoch 74/800\n",
      "3/3 [==============================] - 13s 5s/step - loss: 1.1812 - categorical_accuracy: 0.7596 - val_loss: 1.6222 - val_categorical_accuracy: 0.9381\n",
      "Epoch 75/800\n",
      "3/3 [==============================] - 14s 5s/step - loss: 1.1855 - categorical_accuracy: 0.7300 - val_loss: 1.6059 - val_categorical_accuracy: 0.9292\n",
      "Epoch 76/800\n",
      "3/3 [==============================] - 14s 5s/step - loss: 1.1683 - categorical_accuracy: 0.7567 - val_loss: 1.6138 - val_categorical_accuracy: 0.9646\n",
      "Epoch 77/800\n",
      "3/3 [==============================] - 14s 5s/step - loss: 1.1546 - categorical_accuracy: 0.7270 - val_loss: 1.5695 - val_categorical_accuracy: 0.9381\n",
      "Epoch 78/800\n",
      "3/3 [==============================] - 14s 5s/step - loss: 1.1458 - categorical_accuracy: 0.7567 - val_loss: 1.5888 - val_categorical_accuracy: 0.9204\n",
      "Epoch 79/800\n",
      "3/3 [==============================] - 14s 5s/step - loss: 1.1377 - categorical_accuracy: 0.7537 - val_loss: 1.5791 - val_categorical_accuracy: 0.9735\n",
      "Epoch 80/800\n",
      "3/3 [==============================] - 13s 5s/step - loss: 1.1282 - categorical_accuracy: 0.7626 - val_loss: 1.5621 - val_categorical_accuracy: 0.9292\n",
      "Epoch 81/800\n",
      "3/3 [==============================] - 14s 5s/step - loss: 1.1409 - categorical_accuracy: 0.7507 - val_loss: 1.5290 - val_categorical_accuracy: 0.9469\n",
      "Epoch 82/800\n",
      "3/3 [==============================] - 13s 5s/step - loss: 1.1094 - categorical_accuracy: 0.7715 - val_loss: 1.5298 - val_categorical_accuracy: 0.9469\n",
      "Epoch 83/800\n",
      "3/3 [==============================] - 13s 5s/step - loss: 1.1406 - categorical_accuracy: 0.7418 - val_loss: 1.4950 - val_categorical_accuracy: 0.9381\n",
      "Epoch 84/800\n",
      "3/3 [==============================] - 14s 5s/step - loss: 1.0864 - categorical_accuracy: 0.8160 - val_loss: 1.5088 - val_categorical_accuracy: 0.9823\n",
      "Epoch 85/800\n",
      "3/3 [==============================] - 15s 5s/step - loss: 1.0963 - categorical_accuracy: 0.7804 - val_loss: 1.4789 - val_categorical_accuracy: 0.8938\n",
      "Epoch 86/800\n",
      "3/3 [==============================] - 14s 5s/step - loss: 1.1231 - categorical_accuracy: 0.7745 - val_loss: 1.4924 - val_categorical_accuracy: 1.0000\n",
      "Epoch 87/800\n",
      "3/3 [==============================] - 14s 5s/step - loss: 1.0647 - categorical_accuracy: 0.8190 - val_loss: 1.4198 - val_categorical_accuracy: 0.9735\n",
      "Epoch 88/800\n",
      "3/3 [==============================] - 13s 5s/step - loss: 1.0887 - categorical_accuracy: 0.7834 - val_loss: 1.4163 - val_categorical_accuracy: 0.9735\n",
      "Epoch 89/800\n",
      "3/3 [==============================] - 14s 5s/step - loss: 1.0649 - categorical_accuracy: 0.8012 - val_loss: 1.4027 - val_categorical_accuracy: 0.9469\n",
      "Epoch 90/800\n",
      "3/3 [==============================] - 13s 5s/step - loss: 1.0714 - categorical_accuracy: 0.8071 - val_loss: 1.4137 - val_categorical_accuracy: 1.0000\n",
      "Epoch 91/800\n",
      "3/3 [==============================] - 13s 5s/step - loss: 1.0459 - categorical_accuracy: 0.8576 - val_loss: 1.3495 - val_categorical_accuracy: 0.9381\n",
      "Epoch 92/800\n",
      "3/3 [==============================] - 14s 5s/step - loss: 1.0361 - categorical_accuracy: 0.8368 - val_loss: 1.3355 - val_categorical_accuracy: 0.9823\n",
      "Epoch 93/800\n",
      "3/3 [==============================] - 13s 5s/step - loss: 1.0405 - categorical_accuracy: 0.8101 - val_loss: 1.3083 - val_categorical_accuracy: 0.9381\n",
      "Epoch 94/800\n",
      "3/3 [==============================] - 14s 5s/step - loss: 1.0606 - categorical_accuracy: 0.7953 - val_loss: 1.3356 - val_categorical_accuracy: 1.0000\n",
      "Epoch 95/800\n",
      "3/3 [==============================] - 13s 5s/step - loss: 1.0361 - categorical_accuracy: 0.8368 - val_loss: 1.3277 - val_categorical_accuracy: 0.9735\n",
      "Epoch 96/800\n",
      "3/3 [==============================] - 13s 5s/step - loss: 1.0103 - categorical_accuracy: 0.8220 - val_loss: 1.3355 - val_categorical_accuracy: 0.9912\n",
      "Epoch 97/800\n",
      "3/3 [==============================] - 14s 5s/step - loss: 1.0189 - categorical_accuracy: 0.8368 - val_loss: 1.3016 - val_categorical_accuracy: 0.9469\n",
      "Epoch 98/800\n",
      "3/3 [==============================] - 15s 5s/step - loss: 1.0011 - categorical_accuracy: 0.8368 - val_loss: 1.2370 - val_categorical_accuracy: 1.0000\n",
      "Epoch 99/800\n",
      "3/3 [==============================] - 14s 4s/step - loss: 0.9919 - categorical_accuracy: 0.8576 - val_loss: 1.2177 - val_categorical_accuracy: 0.9469\n",
      "Epoch 100/800\n",
      "3/3 [==============================] - 13s 5s/step - loss: 1.0072 - categorical_accuracy: 0.8368 - val_loss: 1.1968 - val_categorical_accuracy: 1.0000\n",
      "Epoch 101/800\n",
      "3/3 [==============================] - 12s 4s/step - loss: 0.9902 - categorical_accuracy: 0.8309 - val_loss: 1.1653 - val_categorical_accuracy: 0.9646\n",
      "Epoch 102/800\n",
      "3/3 [==============================] - 12s 4s/step - loss: 0.9925 - categorical_accuracy: 0.8457 - val_loss: 1.1703 - val_categorical_accuracy: 1.0000\n",
      "Epoch 103/800\n",
      "3/3 [==============================] - 12s 4s/step - loss: 0.9706 - categorical_accuracy: 0.8902 - val_loss: 1.1765 - val_categorical_accuracy: 0.9558\n",
      "Epoch 104/800\n",
      "3/3 [==============================] - 13s 4s/step - loss: 0.9691 - categorical_accuracy: 0.8487 - val_loss: 1.1844 - val_categorical_accuracy: 1.0000\n",
      "Epoch 105/800\n",
      "3/3 [==============================] - 12s 4s/step - loss: 0.9724 - categorical_accuracy: 0.8694 - val_loss: 1.1494 - val_categorical_accuracy: 0.9646\n",
      "Epoch 106/800\n",
      "3/3 [==============================] - 13s 4s/step - loss: 0.9522 - categorical_accuracy: 0.8457 - val_loss: 1.2002 - val_categorical_accuracy: 1.0000\n",
      "Epoch 107/800\n",
      "3/3 [==============================] - 13s 4s/step - loss: 0.9515 - categorical_accuracy: 0.8783 - val_loss: 1.1060 - val_categorical_accuracy: 1.0000\n",
      "Epoch 108/800\n",
      "3/3 [==============================] - 13s 4s/step - loss: 0.9345 - categorical_accuracy: 0.8754 - val_loss: 1.0967 - val_categorical_accuracy: 1.0000\n",
      "Epoch 109/800\n",
      "3/3 [==============================] - 15s 5s/step - loss: 0.9315 - categorical_accuracy: 0.8605 - val_loss: 1.0578 - val_categorical_accuracy: 1.0000\n",
      "Epoch 110/800\n",
      "3/3 [==============================] - 15s 5s/step - loss: 0.9295 - categorical_accuracy: 0.8546 - val_loss: 1.0838 - val_categorical_accuracy: 0.9735\n",
      "Epoch 111/800\n",
      "3/3 [==============================] - 13s 4s/step - loss: 0.9025 - categorical_accuracy: 0.8813 - val_loss: 1.0277 - val_categorical_accuracy: 1.0000\n",
      "Epoch 112/800\n",
      "3/3 [==============================] - 12s 4s/step - loss: 0.9216 - categorical_accuracy: 0.9021 - val_loss: 1.0194 - val_categorical_accuracy: 0.9735\n",
      "Epoch 113/800\n",
      "3/3 [==============================] - 12s 4s/step - loss: 0.9074 - categorical_accuracy: 0.8694 - val_loss: 0.9996 - val_categorical_accuracy: 1.0000\n",
      "Epoch 114/800\n",
      "3/3 [==============================] - 13s 4s/step - loss: 0.8918 - categorical_accuracy: 0.8872 - val_loss: 0.9726 - val_categorical_accuracy: 1.0000\n",
      "Epoch 115/800\n",
      "3/3 [==============================] - 13s 4s/step - loss: 0.8909 - categorical_accuracy: 0.8813 - val_loss: 1.0000 - val_categorical_accuracy: 1.0000\n",
      "Epoch 116/800\n",
      "3/3 [==============================] - 15s 5s/step - loss: 0.8616 - categorical_accuracy: 0.9169 - val_loss: 0.9477 - val_categorical_accuracy: 0.9912\n",
      "Epoch 117/800\n",
      "3/3 [==============================] - 14s 5s/step - loss: 0.8719 - categorical_accuracy: 0.8991 - val_loss: 0.9515 - val_categorical_accuracy: 1.0000\n",
      "Epoch 118/800\n",
      "3/3 [==============================] - 16s 5s/step - loss: 0.8600 - categorical_accuracy: 0.9021 - val_loss: 0.9171 - val_categorical_accuracy: 1.0000\n",
      "Epoch 119/800\n",
      "3/3 [==============================] - 12s 4s/step - loss: 0.8486 - categorical_accuracy: 0.9050 - val_loss: 0.9001 - val_categorical_accuracy: 1.0000\n",
      "Epoch 120/800\n",
      "3/3 [==============================] - 11s 4s/step - loss: 0.8792 - categorical_accuracy: 0.9110 - val_loss: 0.8936 - val_categorical_accuracy: 1.0000\n",
      "Epoch 121/800\n",
      "3/3 [==============================] - 11s 4s/step - loss: 0.8255 - categorical_accuracy: 0.9021 - val_loss: 0.8598 - val_categorical_accuracy: 1.0000\n",
      "Epoch 122/800\n",
      "3/3 [==============================] - 11s 4s/step - loss: 0.8313 - categorical_accuracy: 0.9169 - val_loss: 0.8508 - val_categorical_accuracy: 1.0000\n",
      "Epoch 123/800\n",
      "3/3 [==============================] - 11s 4s/step - loss: 0.8342 - categorical_accuracy: 0.8961 - val_loss: 0.8095 - val_categorical_accuracy: 1.0000\n",
      "Epoch 124/800\n",
      "3/3 [==============================] - 12s 4s/step - loss: 0.8037 - categorical_accuracy: 0.9169 - val_loss: 0.8198 - val_categorical_accuracy: 1.0000\n",
      "Epoch 125/800\n",
      "3/3 [==============================] - 11s 4s/step - loss: 0.8250 - categorical_accuracy: 0.8902 - val_loss: 0.8284 - val_categorical_accuracy: 1.0000\n",
      "Epoch 126/800\n",
      "3/3 [==============================] - 11s 4s/step - loss: 0.8116 - categorical_accuracy: 0.9377 - val_loss: 0.8216 - val_categorical_accuracy: 1.0000\n",
      "Epoch 127/800\n",
      "3/3 [==============================] - 11s 4s/step - loss: 0.7941 - categorical_accuracy: 0.9258 - val_loss: 0.8110 - val_categorical_accuracy: 1.0000\n",
      "Epoch 128/800\n",
      "3/3 [==============================] - 14s 5s/step - loss: 0.7889 - categorical_accuracy: 0.9496 - val_loss: 0.7970 - val_categorical_accuracy: 1.0000\n",
      "Epoch 129/800\n",
      "3/3 [==============================] - 14s 5s/step - loss: 0.7775 - categorical_accuracy: 0.9228 - val_loss: 0.7565 - val_categorical_accuracy: 1.0000\n",
      "Epoch 130/800\n",
      "3/3 [==============================] - 13s 4s/step - loss: 0.7970 - categorical_accuracy: 0.9199 - val_loss: 0.7451 - val_categorical_accuracy: 1.0000\n",
      "Epoch 131/800\n",
      "3/3 [==============================] - 13s 4s/step - loss: 0.7938 - categorical_accuracy: 0.9318 - val_loss: 0.7500 - val_categorical_accuracy: 1.0000\n",
      "Epoch 132/800\n",
      "3/3 [==============================] - 13s 4s/step - loss: 0.7772 - categorical_accuracy: 0.9466 - val_loss: 0.7370 - val_categorical_accuracy: 1.0000\n",
      "Epoch 133/800\n",
      "3/3 [==============================] - 13s 4s/step - loss: 0.7741 - categorical_accuracy: 0.9407 - val_loss: 0.7453 - val_categorical_accuracy: 1.0000\n",
      "Epoch 134/800\n",
      "3/3 [==============================] - 13s 4s/step - loss: 0.7906 - categorical_accuracy: 0.9199 - val_loss: 0.6951 - val_categorical_accuracy: 1.0000\n",
      "Epoch 135/800\n",
      "3/3 [==============================] - 12s 4s/step - loss: 0.7655 - categorical_accuracy: 0.9377 - val_loss: 0.6992 - val_categorical_accuracy: 1.0000\n",
      "Epoch 136/800\n",
      "3/3 [==============================] - 13s 5s/step - loss: 0.7827 - categorical_accuracy: 0.9318 - val_loss: 0.6920 - val_categorical_accuracy: 1.0000\n",
      "Epoch 137/800\n",
      "3/3 [==============================] - 13s 4s/step - loss: 0.7572 - categorical_accuracy: 0.9496 - val_loss: 0.6664 - val_categorical_accuracy: 1.0000\n",
      "Epoch 138/800\n",
      "3/3 [==============================] - 13s 4s/step - loss: 0.7628 - categorical_accuracy: 0.9318 - val_loss: 0.6904 - val_categorical_accuracy: 1.0000\n",
      "Epoch 139/800\n",
      "3/3 [==============================] - 13s 4s/step - loss: 0.7405 - categorical_accuracy: 0.9407 - val_loss: 0.7203 - val_categorical_accuracy: 1.0000\n",
      "Epoch 140/800\n",
      "3/3 [==============================] - 13s 4s/step - loss: 0.7364 - categorical_accuracy: 0.9555 - val_loss: 0.6797 - val_categorical_accuracy: 1.0000\n",
      "Epoch 141/800\n",
      "3/3 [==============================] - 13s 4s/step - loss: 0.7445 - categorical_accuracy: 0.9466 - val_loss: 0.6977 - val_categorical_accuracy: 1.0000\n",
      "Epoch 142/800\n",
      "3/3 [==============================] - 14s 5s/step - loss: 0.7134 - categorical_accuracy: 0.9347 - val_loss: 0.6426 - val_categorical_accuracy: 1.0000\n",
      "Epoch 143/800\n",
      "3/3 [==============================] - 13s 4s/step - loss: 0.7233 - categorical_accuracy: 0.9407 - val_loss: 0.6438 - val_categorical_accuracy: 1.0000\n",
      "Epoch 144/800\n",
      "3/3 [==============================] - 13s 4s/step - loss: 0.7206 - categorical_accuracy: 0.9496 - val_loss: 0.6469 - val_categorical_accuracy: 1.0000\n",
      "Epoch 145/800\n",
      "3/3 [==============================] - 13s 5s/step - loss: 0.7134 - categorical_accuracy: 0.9525 - val_loss: 0.5942 - val_categorical_accuracy: 1.0000\n",
      "Epoch 146/800\n",
      "3/3 [==============================] - 13s 4s/step - loss: 0.7230 - categorical_accuracy: 0.9555 - val_loss: 0.5998 - val_categorical_accuracy: 1.0000\n",
      "Epoch 147/800\n",
      "3/3 [==============================] - 13s 4s/step - loss: 0.7356 - categorical_accuracy: 0.9377 - val_loss: 0.6410 - val_categorical_accuracy: 1.0000\n",
      "Epoch 148/800\n",
      "3/3 [==============================] - 13s 4s/step - loss: 0.7396 - categorical_accuracy: 0.9555 - val_loss: 0.6226 - val_categorical_accuracy: 1.0000\n",
      "Epoch 149/800\n",
      "3/3 [==============================] - 13s 4s/step - loss: 0.7170 - categorical_accuracy: 0.9496 - val_loss: 0.6204 - val_categorical_accuracy: 1.0000\n",
      "Epoch 150/800\n",
      "3/3 [==============================] - 14s 4s/step - loss: 0.7044 - categorical_accuracy: 0.9466 - val_loss: 0.6132 - val_categorical_accuracy: 1.0000\n",
      "Epoch 151/800\n"
     ]
    },
    {
     "ename": "KeyboardInterrupt",
     "evalue": "",
     "output_type": "error",
     "traceback": [
      "\u001b[1;31m---------------------------------------------------------------------------\u001b[0m",
      "\u001b[1;31mKeyboardInterrupt\u001b[0m                         Traceback (most recent call last)",
      "Cell \u001b[1;32mIn[20], line 2\u001b[0m\n\u001b[0;32m      1\u001b[0m \u001b[38;5;66;03m# model.fit(X_train, y_train, epochs=300, callbacks=[tb_callback])\u001b[39;00m\n\u001b[1;32m----> 2\u001b[0m history\u001b[38;5;241m=\u001b[39m\u001b[43mmodel\u001b[49m\u001b[38;5;241;43m.\u001b[39;49m\u001b[43mfit\u001b[49m\u001b[43m(\u001b[49m\u001b[43mX_train\u001b[49m\u001b[43m,\u001b[49m\u001b[43m \u001b[49m\u001b[43my_train\u001b[49m\u001b[43m,\u001b[49m\u001b[43m \u001b[49m\u001b[43mepochs\u001b[49m\u001b[38;5;241;43m=\u001b[39;49m\u001b[38;5;241;43m800\u001b[39;49m\u001b[43m,\u001b[49m\u001b[43m \u001b[49m\u001b[43mbatch_size\u001b[49m\u001b[38;5;241;43m=\u001b[39;49m\u001b[38;5;241;43m128\u001b[39;49m\u001b[43m,\u001b[49m\u001b[43m \u001b[49m\u001b[43mvalidation_data\u001b[49m\u001b[38;5;241;43m=\u001b[39;49m\u001b[43m(\u001b[49m\u001b[43mX_val\u001b[49m\u001b[43m,\u001b[49m\u001b[43m \u001b[49m\u001b[43my_val\u001b[49m\u001b[43m)\u001b[49m\u001b[43m,\u001b[49m\u001b[43m \u001b[49m\u001b[43mcallbacks\u001b[49m\u001b[38;5;241;43m=\u001b[39;49m\u001b[43m[\u001b[49m\u001b[43mtb_callback\u001b[49m\u001b[43m]\u001b[49m\u001b[43m)\u001b[49m\n",
      "File \u001b[1;32mc:\\Users\\Dell\\anaconda3\\envs\\tf2\\lib\\site-packages\\keras\\src\\utils\\traceback_utils.py:65\u001b[0m, in \u001b[0;36mfilter_traceback.<locals>.error_handler\u001b[1;34m(*args, **kwargs)\u001b[0m\n\u001b[0;32m     63\u001b[0m filtered_tb \u001b[38;5;241m=\u001b[39m \u001b[38;5;28;01mNone\u001b[39;00m\n\u001b[0;32m     64\u001b[0m \u001b[38;5;28;01mtry\u001b[39;00m:\n\u001b[1;32m---> 65\u001b[0m     \u001b[38;5;28;01mreturn\u001b[39;00m fn(\u001b[38;5;241m*\u001b[39margs, \u001b[38;5;241m*\u001b[39m\u001b[38;5;241m*\u001b[39mkwargs)\n\u001b[0;32m     66\u001b[0m \u001b[38;5;28;01mexcept\u001b[39;00m \u001b[38;5;167;01mException\u001b[39;00m \u001b[38;5;28;01mas\u001b[39;00m e:\n\u001b[0;32m     67\u001b[0m     filtered_tb \u001b[38;5;241m=\u001b[39m _process_traceback_frames(e\u001b[38;5;241m.\u001b[39m__traceback__)\n",
      "File \u001b[1;32mc:\\Users\\Dell\\anaconda3\\envs\\tf2\\lib\\site-packages\\keras\\src\\engine\\training.py:1807\u001b[0m, in \u001b[0;36mModel.fit\u001b[1;34m(self, x, y, batch_size, epochs, verbose, callbacks, validation_split, validation_data, shuffle, class_weight, sample_weight, initial_epoch, steps_per_epoch, validation_steps, validation_batch_size, validation_freq, max_queue_size, workers, use_multiprocessing)\u001b[0m\n\u001b[0;32m   1799\u001b[0m \u001b[38;5;28;01mwith\u001b[39;00m tf\u001b[38;5;241m.\u001b[39mprofiler\u001b[38;5;241m.\u001b[39mexperimental\u001b[38;5;241m.\u001b[39mTrace(\n\u001b[0;32m   1800\u001b[0m     \u001b[38;5;124m\"\u001b[39m\u001b[38;5;124mtrain\u001b[39m\u001b[38;5;124m\"\u001b[39m,\n\u001b[0;32m   1801\u001b[0m     epoch_num\u001b[38;5;241m=\u001b[39mepoch,\n\u001b[1;32m   (...)\u001b[0m\n\u001b[0;32m   1804\u001b[0m     _r\u001b[38;5;241m=\u001b[39m\u001b[38;5;241m1\u001b[39m,\n\u001b[0;32m   1805\u001b[0m ):\n\u001b[0;32m   1806\u001b[0m     callbacks\u001b[38;5;241m.\u001b[39mon_train_batch_begin(step)\n\u001b[1;32m-> 1807\u001b[0m     tmp_logs \u001b[38;5;241m=\u001b[39m \u001b[38;5;28;43mself\u001b[39;49m\u001b[38;5;241;43m.\u001b[39;49m\u001b[43mtrain_function\u001b[49m\u001b[43m(\u001b[49m\u001b[43miterator\u001b[49m\u001b[43m)\u001b[49m\n\u001b[0;32m   1808\u001b[0m     \u001b[38;5;28;01mif\u001b[39;00m data_handler\u001b[38;5;241m.\u001b[39mshould_sync:\n\u001b[0;32m   1809\u001b[0m         context\u001b[38;5;241m.\u001b[39masync_wait()\n",
      "File \u001b[1;32mc:\\Users\\Dell\\anaconda3\\envs\\tf2\\lib\\site-packages\\tensorflow\\python\\util\\traceback_utils.py:150\u001b[0m, in \u001b[0;36mfilter_traceback.<locals>.error_handler\u001b[1;34m(*args, **kwargs)\u001b[0m\n\u001b[0;32m    148\u001b[0m filtered_tb \u001b[38;5;241m=\u001b[39m \u001b[38;5;28;01mNone\u001b[39;00m\n\u001b[0;32m    149\u001b[0m \u001b[38;5;28;01mtry\u001b[39;00m:\n\u001b[1;32m--> 150\u001b[0m   \u001b[38;5;28;01mreturn\u001b[39;00m fn(\u001b[38;5;241m*\u001b[39margs, \u001b[38;5;241m*\u001b[39m\u001b[38;5;241m*\u001b[39mkwargs)\n\u001b[0;32m    151\u001b[0m \u001b[38;5;28;01mexcept\u001b[39;00m \u001b[38;5;167;01mException\u001b[39;00m \u001b[38;5;28;01mas\u001b[39;00m e:\n\u001b[0;32m    152\u001b[0m   filtered_tb \u001b[38;5;241m=\u001b[39m _process_traceback_frames(e\u001b[38;5;241m.\u001b[39m__traceback__)\n",
      "File \u001b[1;32mc:\\Users\\Dell\\anaconda3\\envs\\tf2\\lib\\site-packages\\tensorflow\\python\\eager\\polymorphic_function\\polymorphic_function.py:832\u001b[0m, in \u001b[0;36mFunction.__call__\u001b[1;34m(self, *args, **kwds)\u001b[0m\n\u001b[0;32m    829\u001b[0m compiler \u001b[38;5;241m=\u001b[39m \u001b[38;5;124m\"\u001b[39m\u001b[38;5;124mxla\u001b[39m\u001b[38;5;124m\"\u001b[39m \u001b[38;5;28;01mif\u001b[39;00m \u001b[38;5;28mself\u001b[39m\u001b[38;5;241m.\u001b[39m_jit_compile \u001b[38;5;28;01melse\u001b[39;00m \u001b[38;5;124m\"\u001b[39m\u001b[38;5;124mnonXla\u001b[39m\u001b[38;5;124m\"\u001b[39m\n\u001b[0;32m    831\u001b[0m \u001b[38;5;28;01mwith\u001b[39;00m OptionalXlaContext(\u001b[38;5;28mself\u001b[39m\u001b[38;5;241m.\u001b[39m_jit_compile):\n\u001b[1;32m--> 832\u001b[0m   result \u001b[38;5;241m=\u001b[39m \u001b[38;5;28mself\u001b[39m\u001b[38;5;241m.\u001b[39m_call(\u001b[38;5;241m*\u001b[39margs, \u001b[38;5;241m*\u001b[39m\u001b[38;5;241m*\u001b[39mkwds)\n\u001b[0;32m    834\u001b[0m new_tracing_count \u001b[38;5;241m=\u001b[39m \u001b[38;5;28mself\u001b[39m\u001b[38;5;241m.\u001b[39mexperimental_get_tracing_count()\n\u001b[0;32m    835\u001b[0m without_tracing \u001b[38;5;241m=\u001b[39m (tracing_count \u001b[38;5;241m==\u001b[39m new_tracing_count)\n",
      "File \u001b[1;32mc:\\Users\\Dell\\anaconda3\\envs\\tf2\\lib\\site-packages\\tensorflow\\python\\eager\\polymorphic_function\\polymorphic_function.py:868\u001b[0m, in \u001b[0;36mFunction._call\u001b[1;34m(self, *args, **kwds)\u001b[0m\n\u001b[0;32m    865\u001b[0m   \u001b[38;5;28mself\u001b[39m\u001b[38;5;241m.\u001b[39m_lock\u001b[38;5;241m.\u001b[39mrelease()\n\u001b[0;32m    866\u001b[0m   \u001b[38;5;66;03m# In this case we have created variables on the first call, so we run the\u001b[39;00m\n\u001b[0;32m    867\u001b[0m   \u001b[38;5;66;03m# defunned version which is guaranteed to never create variables.\u001b[39;00m\n\u001b[1;32m--> 868\u001b[0m   \u001b[38;5;28;01mreturn\u001b[39;00m \u001b[43mtracing_compilation\u001b[49m\u001b[38;5;241;43m.\u001b[39;49m\u001b[43mcall_function\u001b[49m\u001b[43m(\u001b[49m\n\u001b[0;32m    869\u001b[0m \u001b[43m      \u001b[49m\u001b[43margs\u001b[49m\u001b[43m,\u001b[49m\u001b[43m \u001b[49m\u001b[43mkwds\u001b[49m\u001b[43m,\u001b[49m\u001b[43m \u001b[49m\u001b[38;5;28;43mself\u001b[39;49m\u001b[38;5;241;43m.\u001b[39;49m\u001b[43m_no_variable_creation_config\u001b[49m\n\u001b[0;32m    870\u001b[0m \u001b[43m  \u001b[49m\u001b[43m)\u001b[49m\n\u001b[0;32m    871\u001b[0m \u001b[38;5;28;01melif\u001b[39;00m \u001b[38;5;28mself\u001b[39m\u001b[38;5;241m.\u001b[39m_variable_creation_config \u001b[38;5;129;01mis\u001b[39;00m \u001b[38;5;129;01mnot\u001b[39;00m \u001b[38;5;28;01mNone\u001b[39;00m:\n\u001b[0;32m    872\u001b[0m   \u001b[38;5;66;03m# Release the lock early so that multiple threads can perform the call\u001b[39;00m\n\u001b[0;32m    873\u001b[0m   \u001b[38;5;66;03m# in parallel.\u001b[39;00m\n\u001b[0;32m    874\u001b[0m   \u001b[38;5;28mself\u001b[39m\u001b[38;5;241m.\u001b[39m_lock\u001b[38;5;241m.\u001b[39mrelease()\n",
      "File \u001b[1;32mc:\\Users\\Dell\\anaconda3\\envs\\tf2\\lib\\site-packages\\tensorflow\\python\\eager\\polymorphic_function\\tracing_compilation.py:139\u001b[0m, in \u001b[0;36mcall_function\u001b[1;34m(args, kwargs, tracing_options)\u001b[0m\n\u001b[0;32m    137\u001b[0m bound_args \u001b[38;5;241m=\u001b[39m function\u001b[38;5;241m.\u001b[39mfunction_type\u001b[38;5;241m.\u001b[39mbind(\u001b[38;5;241m*\u001b[39margs, \u001b[38;5;241m*\u001b[39m\u001b[38;5;241m*\u001b[39mkwargs)\n\u001b[0;32m    138\u001b[0m flat_inputs \u001b[38;5;241m=\u001b[39m function\u001b[38;5;241m.\u001b[39mfunction_type\u001b[38;5;241m.\u001b[39munpack_inputs(bound_args)\n\u001b[1;32m--> 139\u001b[0m \u001b[38;5;28;01mreturn\u001b[39;00m \u001b[43mfunction\u001b[49m\u001b[38;5;241;43m.\u001b[39;49m\u001b[43m_call_flat\u001b[49m\u001b[43m(\u001b[49m\u001b[43m  \u001b[49m\u001b[38;5;66;43;03m# pylint: disable=protected-access\u001b[39;49;00m\n\u001b[0;32m    140\u001b[0m \u001b[43m    \u001b[49m\u001b[43mflat_inputs\u001b[49m\u001b[43m,\u001b[49m\u001b[43m \u001b[49m\u001b[43mcaptured_inputs\u001b[49m\u001b[38;5;241;43m=\u001b[39;49m\u001b[43mfunction\u001b[49m\u001b[38;5;241;43m.\u001b[39;49m\u001b[43mcaptured_inputs\u001b[49m\n\u001b[0;32m    141\u001b[0m \u001b[43m\u001b[49m\u001b[43m)\u001b[49m\n",
      "File \u001b[1;32mc:\\Users\\Dell\\anaconda3\\envs\\tf2\\lib\\site-packages\\tensorflow\\python\\eager\\polymorphic_function\\concrete_function.py:1323\u001b[0m, in \u001b[0;36mConcreteFunction._call_flat\u001b[1;34m(self, tensor_inputs, captured_inputs)\u001b[0m\n\u001b[0;32m   1319\u001b[0m possible_gradient_type \u001b[38;5;241m=\u001b[39m gradients_util\u001b[38;5;241m.\u001b[39mPossibleTapeGradientTypes(args)\n\u001b[0;32m   1320\u001b[0m \u001b[38;5;28;01mif\u001b[39;00m (possible_gradient_type \u001b[38;5;241m==\u001b[39m gradients_util\u001b[38;5;241m.\u001b[39mPOSSIBLE_GRADIENT_TYPES_NONE\n\u001b[0;32m   1321\u001b[0m     \u001b[38;5;129;01mand\u001b[39;00m executing_eagerly):\n\u001b[0;32m   1322\u001b[0m   \u001b[38;5;66;03m# No tape is watching; skip to running the function.\u001b[39;00m\n\u001b[1;32m-> 1323\u001b[0m   \u001b[38;5;28;01mreturn\u001b[39;00m \u001b[38;5;28;43mself\u001b[39;49m\u001b[38;5;241;43m.\u001b[39;49m\u001b[43m_inference_function\u001b[49m\u001b[38;5;241;43m.\u001b[39;49m\u001b[43mcall_preflattened\u001b[49m\u001b[43m(\u001b[49m\u001b[43margs\u001b[49m\u001b[43m)\u001b[49m\n\u001b[0;32m   1324\u001b[0m forward_backward \u001b[38;5;241m=\u001b[39m \u001b[38;5;28mself\u001b[39m\u001b[38;5;241m.\u001b[39m_select_forward_and_backward_functions(\n\u001b[0;32m   1325\u001b[0m     args,\n\u001b[0;32m   1326\u001b[0m     possible_gradient_type,\n\u001b[0;32m   1327\u001b[0m     executing_eagerly)\n\u001b[0;32m   1328\u001b[0m forward_function, args_with_tangents \u001b[38;5;241m=\u001b[39m forward_backward\u001b[38;5;241m.\u001b[39mforward()\n",
      "File \u001b[1;32mc:\\Users\\Dell\\anaconda3\\envs\\tf2\\lib\\site-packages\\tensorflow\\python\\eager\\polymorphic_function\\atomic_function.py:216\u001b[0m, in \u001b[0;36mAtomicFunction.call_preflattened\u001b[1;34m(self, args)\u001b[0m\n\u001b[0;32m    214\u001b[0m \u001b[38;5;28;01mdef\u001b[39;00m \u001b[38;5;21mcall_preflattened\u001b[39m(\u001b[38;5;28mself\u001b[39m, args: Sequence[core\u001b[38;5;241m.\u001b[39mTensor]) \u001b[38;5;241m-\u001b[39m\u001b[38;5;241m>\u001b[39m Any:\n\u001b[0;32m    215\u001b[0m \u001b[38;5;250m  \u001b[39m\u001b[38;5;124;03m\"\"\"Calls with flattened tensor inputs and returns the structured output.\"\"\"\u001b[39;00m\n\u001b[1;32m--> 216\u001b[0m   flat_outputs \u001b[38;5;241m=\u001b[39m \u001b[38;5;28;43mself\u001b[39;49m\u001b[38;5;241;43m.\u001b[39;49m\u001b[43mcall_flat\u001b[49m\u001b[43m(\u001b[49m\u001b[38;5;241;43m*\u001b[39;49m\u001b[43margs\u001b[49m\u001b[43m)\u001b[49m\n\u001b[0;32m    217\u001b[0m   \u001b[38;5;28;01mreturn\u001b[39;00m \u001b[38;5;28mself\u001b[39m\u001b[38;5;241m.\u001b[39mfunction_type\u001b[38;5;241m.\u001b[39mpack_output(flat_outputs)\n",
      "File \u001b[1;32mc:\\Users\\Dell\\anaconda3\\envs\\tf2\\lib\\site-packages\\tensorflow\\python\\eager\\polymorphic_function\\atomic_function.py:251\u001b[0m, in \u001b[0;36mAtomicFunction.call_flat\u001b[1;34m(self, *args)\u001b[0m\n\u001b[0;32m    249\u001b[0m \u001b[38;5;28;01mwith\u001b[39;00m record\u001b[38;5;241m.\u001b[39mstop_recording():\n\u001b[0;32m    250\u001b[0m   \u001b[38;5;28;01mif\u001b[39;00m \u001b[38;5;28mself\u001b[39m\u001b[38;5;241m.\u001b[39m_bound_context\u001b[38;5;241m.\u001b[39mexecuting_eagerly():\n\u001b[1;32m--> 251\u001b[0m     outputs \u001b[38;5;241m=\u001b[39m \u001b[38;5;28;43mself\u001b[39;49m\u001b[38;5;241;43m.\u001b[39;49m\u001b[43m_bound_context\u001b[49m\u001b[38;5;241;43m.\u001b[39;49m\u001b[43mcall_function\u001b[49m\u001b[43m(\u001b[49m\n\u001b[0;32m    252\u001b[0m \u001b[43m        \u001b[49m\u001b[38;5;28;43mself\u001b[39;49m\u001b[38;5;241;43m.\u001b[39;49m\u001b[43mname\u001b[49m\u001b[43m,\u001b[49m\n\u001b[0;32m    253\u001b[0m \u001b[43m        \u001b[49m\u001b[38;5;28;43mlist\u001b[39;49m\u001b[43m(\u001b[49m\u001b[43margs\u001b[49m\u001b[43m)\u001b[49m\u001b[43m,\u001b[49m\n\u001b[0;32m    254\u001b[0m \u001b[43m        \u001b[49m\u001b[38;5;28;43mlen\u001b[39;49m\u001b[43m(\u001b[49m\u001b[38;5;28;43mself\u001b[39;49m\u001b[38;5;241;43m.\u001b[39;49m\u001b[43mfunction_type\u001b[49m\u001b[38;5;241;43m.\u001b[39;49m\u001b[43mflat_outputs\u001b[49m\u001b[43m)\u001b[49m\u001b[43m,\u001b[49m\n\u001b[0;32m    255\u001b[0m \u001b[43m    \u001b[49m\u001b[43m)\u001b[49m\n\u001b[0;32m    256\u001b[0m   \u001b[38;5;28;01melse\u001b[39;00m:\n\u001b[0;32m    257\u001b[0m     outputs \u001b[38;5;241m=\u001b[39m make_call_op_in_graph(\n\u001b[0;32m    258\u001b[0m         \u001b[38;5;28mself\u001b[39m,\n\u001b[0;32m    259\u001b[0m         \u001b[38;5;28mlist\u001b[39m(args),\n\u001b[0;32m    260\u001b[0m         \u001b[38;5;28mself\u001b[39m\u001b[38;5;241m.\u001b[39m_bound_context\u001b[38;5;241m.\u001b[39mfunction_call_options\u001b[38;5;241m.\u001b[39mas_attrs(),\n\u001b[0;32m    261\u001b[0m     )\n",
      "File \u001b[1;32mc:\\Users\\Dell\\anaconda3\\envs\\tf2\\lib\\site-packages\\tensorflow\\python\\eager\\context.py:1486\u001b[0m, in \u001b[0;36mContext.call_function\u001b[1;34m(self, name, tensor_inputs, num_outputs)\u001b[0m\n\u001b[0;32m   1484\u001b[0m cancellation_context \u001b[38;5;241m=\u001b[39m cancellation\u001b[38;5;241m.\u001b[39mcontext()\n\u001b[0;32m   1485\u001b[0m \u001b[38;5;28;01mif\u001b[39;00m cancellation_context \u001b[38;5;129;01mis\u001b[39;00m \u001b[38;5;28;01mNone\u001b[39;00m:\n\u001b[1;32m-> 1486\u001b[0m   outputs \u001b[38;5;241m=\u001b[39m \u001b[43mexecute\u001b[49m\u001b[38;5;241;43m.\u001b[39;49m\u001b[43mexecute\u001b[49m\u001b[43m(\u001b[49m\n\u001b[0;32m   1487\u001b[0m \u001b[43m      \u001b[49m\u001b[43mname\u001b[49m\u001b[38;5;241;43m.\u001b[39;49m\u001b[43mdecode\u001b[49m\u001b[43m(\u001b[49m\u001b[38;5;124;43m\"\u001b[39;49m\u001b[38;5;124;43mutf-8\u001b[39;49m\u001b[38;5;124;43m\"\u001b[39;49m\u001b[43m)\u001b[49m\u001b[43m,\u001b[49m\n\u001b[0;32m   1488\u001b[0m \u001b[43m      \u001b[49m\u001b[43mnum_outputs\u001b[49m\u001b[38;5;241;43m=\u001b[39;49m\u001b[43mnum_outputs\u001b[49m\u001b[43m,\u001b[49m\n\u001b[0;32m   1489\u001b[0m \u001b[43m      \u001b[49m\u001b[43minputs\u001b[49m\u001b[38;5;241;43m=\u001b[39;49m\u001b[43mtensor_inputs\u001b[49m\u001b[43m,\u001b[49m\n\u001b[0;32m   1490\u001b[0m \u001b[43m      \u001b[49m\u001b[43mattrs\u001b[49m\u001b[38;5;241;43m=\u001b[39;49m\u001b[43mattrs\u001b[49m\u001b[43m,\u001b[49m\n\u001b[0;32m   1491\u001b[0m \u001b[43m      \u001b[49m\u001b[43mctx\u001b[49m\u001b[38;5;241;43m=\u001b[39;49m\u001b[38;5;28;43mself\u001b[39;49m\u001b[43m,\u001b[49m\n\u001b[0;32m   1492\u001b[0m \u001b[43m  \u001b[49m\u001b[43m)\u001b[49m\n\u001b[0;32m   1493\u001b[0m \u001b[38;5;28;01melse\u001b[39;00m:\n\u001b[0;32m   1494\u001b[0m   outputs \u001b[38;5;241m=\u001b[39m execute\u001b[38;5;241m.\u001b[39mexecute_with_cancellation(\n\u001b[0;32m   1495\u001b[0m       name\u001b[38;5;241m.\u001b[39mdecode(\u001b[38;5;124m\"\u001b[39m\u001b[38;5;124mutf-8\u001b[39m\u001b[38;5;124m\"\u001b[39m),\n\u001b[0;32m   1496\u001b[0m       num_outputs\u001b[38;5;241m=\u001b[39mnum_outputs,\n\u001b[1;32m   (...)\u001b[0m\n\u001b[0;32m   1500\u001b[0m       cancellation_manager\u001b[38;5;241m=\u001b[39mcancellation_context,\n\u001b[0;32m   1501\u001b[0m   )\n",
      "File \u001b[1;32mc:\\Users\\Dell\\anaconda3\\envs\\tf2\\lib\\site-packages\\tensorflow\\python\\eager\\execute.py:53\u001b[0m, in \u001b[0;36mquick_execute\u001b[1;34m(op_name, num_outputs, inputs, attrs, ctx, name)\u001b[0m\n\u001b[0;32m     51\u001b[0m \u001b[38;5;28;01mtry\u001b[39;00m:\n\u001b[0;32m     52\u001b[0m   ctx\u001b[38;5;241m.\u001b[39mensure_initialized()\n\u001b[1;32m---> 53\u001b[0m   tensors \u001b[38;5;241m=\u001b[39m \u001b[43mpywrap_tfe\u001b[49m\u001b[38;5;241;43m.\u001b[39;49m\u001b[43mTFE_Py_Execute\u001b[49m\u001b[43m(\u001b[49m\u001b[43mctx\u001b[49m\u001b[38;5;241;43m.\u001b[39;49m\u001b[43m_handle\u001b[49m\u001b[43m,\u001b[49m\u001b[43m \u001b[49m\u001b[43mdevice_name\u001b[49m\u001b[43m,\u001b[49m\u001b[43m \u001b[49m\u001b[43mop_name\u001b[49m\u001b[43m,\u001b[49m\n\u001b[0;32m     54\u001b[0m \u001b[43m                                      \u001b[49m\u001b[43minputs\u001b[49m\u001b[43m,\u001b[49m\u001b[43m \u001b[49m\u001b[43mattrs\u001b[49m\u001b[43m,\u001b[49m\u001b[43m \u001b[49m\u001b[43mnum_outputs\u001b[49m\u001b[43m)\u001b[49m\n\u001b[0;32m     55\u001b[0m \u001b[38;5;28;01mexcept\u001b[39;00m core\u001b[38;5;241m.\u001b[39m_NotOkStatusException \u001b[38;5;28;01mas\u001b[39;00m e:\n\u001b[0;32m     56\u001b[0m   \u001b[38;5;28;01mif\u001b[39;00m name \u001b[38;5;129;01mis\u001b[39;00m \u001b[38;5;129;01mnot\u001b[39;00m \u001b[38;5;28;01mNone\u001b[39;00m:\n",
      "\u001b[1;31mKeyboardInterrupt\u001b[0m: "
     ]
    }
   ],
   "source": [
    "# model.fit(X_train, y_train, epochs=300, callbacks=[tb_callback])\n",
    "history=model.fit(X_train, y_train, epochs=800, batch_size=128, validation_data=(X_val, y_val), callbacks=[tb_callback])\n",
    "\n"
   ]
  },
  {
   "cell_type": "code",
   "execution_count": null,
   "metadata": {},
   "outputs": [],
   "source": [
    "# from keras.callbacks import EarlyStopping\n",
    "\n",
    "# early_stopping = EarlyStopping(monitor='val_loss', patience=10, restore_best_weights=True)\n",
    "# model.fit(X_train, y_train, epochs=500, callbacks=[early_stopping], validation_data=(X_val, y_val))\n"
   ]
  },
  {
   "cell_type": "code",
   "execution_count": null,
   "metadata": {},
   "outputs": [],
   "source": [
    "# res = model.predict(X_train)\n"
   ]
  },
  {
   "cell_type": "code",
   "execution_count": null,
   "metadata": {},
   "outputs": [],
   "source": [
    "# actions[np.argmax(y_train[0])]"
   ]
  },
  {
   "cell_type": "code",
   "execution_count": 21,
   "metadata": {},
   "outputs": [
    {
     "name": "stderr",
     "output_type": "stream",
     "text": [
      "c:\\Users\\Dell\\anaconda3\\envs\\tf2\\lib\\site-packages\\keras\\src\\engine\\training.py:3103: UserWarning: You are saving your model as an HDF5 file via `model.save()`. This file format is considered legacy. We recommend using instead the native Keras format, e.g. `model.save('my_model.keras')`.\n",
      "  saving_api.save_model(\n"
     ]
    }
   ],
   "source": [
    "model.save('combinebilstm.h5')\n"
   ]
  },
  {
   "cell_type": "markdown",
   "metadata": {},
   "source": []
  },
  {
   "cell_type": "code",
   "execution_count": 22,
   "metadata": {},
   "outputs": [
    {
     "ename": "NameError",
     "evalue": "name 'history' is not defined",
     "output_type": "error",
     "traceback": [
      "\u001b[1;31m---------------------------------------------------------------------------\u001b[0m",
      "\u001b[1;31mNameError\u001b[0m                                 Traceback (most recent call last)",
      "Cell \u001b[1;32mIn[22], line 2\u001b[0m\n\u001b[0;32m      1\u001b[0m fig \u001b[38;5;241m=\u001b[39m plt\u001b[38;5;241m.\u001b[39mfigure()\n\u001b[1;32m----> 2\u001b[0m plt\u001b[38;5;241m.\u001b[39mplot(\u001b[43mhistory\u001b[49m\u001b[38;5;241m.\u001b[39mhistory[\u001b[38;5;124m'\u001b[39m\u001b[38;5;124mloss\u001b[39m\u001b[38;5;124m'\u001b[39m], color\u001b[38;5;241m=\u001b[39m\u001b[38;5;124m'\u001b[39m\u001b[38;5;124mteal\u001b[39m\u001b[38;5;124m'\u001b[39m, label\u001b[38;5;241m=\u001b[39m\u001b[38;5;124m'\u001b[39m\u001b[38;5;124mloss\u001b[39m\u001b[38;5;124m'\u001b[39m)\n\u001b[0;32m      3\u001b[0m plt\u001b[38;5;241m.\u001b[39mplot(history\u001b[38;5;241m.\u001b[39mhistory[\u001b[38;5;124m'\u001b[39m\u001b[38;5;124mval_loss\u001b[39m\u001b[38;5;124m'\u001b[39m], color\u001b[38;5;241m=\u001b[39m\u001b[38;5;124m'\u001b[39m\u001b[38;5;124morange\u001b[39m\u001b[38;5;124m'\u001b[39m, label\u001b[38;5;241m=\u001b[39m\u001b[38;5;124m'\u001b[39m\u001b[38;5;124mval_loss\u001b[39m\u001b[38;5;124m'\u001b[39m)\n\u001b[0;32m      4\u001b[0m fig\u001b[38;5;241m.\u001b[39msuptitle(\u001b[38;5;124m'\u001b[39m\u001b[38;5;124mLoss\u001b[39m\u001b[38;5;124m'\u001b[39m, fontsize\u001b[38;5;241m=\u001b[39m\u001b[38;5;241m20\u001b[39m)\n",
      "\u001b[1;31mNameError\u001b[0m: name 'history' is not defined"
     ]
    },
    {
     "data": {
      "text/plain": [
       "<Figure size 640x480 with 0 Axes>"
      ]
     },
     "metadata": {},
     "output_type": "display_data"
    }
   ],
   "source": [
    "fig = plt.figure()\n",
    "plt.plot(history.history['loss'], color='teal', label='loss')\n",
    "plt.plot(history.history['val_loss'], color='orange', label='val_loss')\n",
    "fig.suptitle('Loss', fontsize=20)\n",
    "plt.legend(loc=\"upper left\")\n",
    "plt.show()"
   ]
  },
  {
   "cell_type": "code",
   "execution_count": 23,
   "metadata": {},
   "outputs": [
    {
     "data": {
      "image/png": "[encoded data removed]",
      "text/plain": [
       "<Figure size 640x480 with 1 Axes>"
      ]
     },
     "metadata": {},
     "output_type": "display_data"
    }
   ],
   "source": [
    "fig = plt.figure()\n",
    "plt.plot(history.history['categorical_accuracy'], color='teal', label='accuracy')\n",
    "plt.plot(history.history['val_categorical_accuracy'], color='orange', label='val_accuracy')\n",
    "fig.suptitle('Accuracy', fontsize=20)\n",
    "plt.legend(loc=\"upper left\")\n",
    "plt.show()"
   ]
  },
  {
   "cell_type": "code",
   "execution_count": 24,
   "metadata": {},
   "outputs": [],
   "source": [
    "from sklearn.metrics import multilabel_confusion_matrix, accuracy_score\n"
   ]
  },
  {
   "cell_type": "code",
   "execution_count": 25,
   "metadata": {},
   "outputs": [
    {
     "name": "stdout",
     "output_type": "stream",
     "text": [
      "WARNING:tensorflow:Layer lstm will not use cuDNN kernels since it doesn't meet the criteria. It will use a generic GPU kernel as fallback when running on GPU.\n",
      "WARNING:tensorflow:Layer lstm will not use cuDNN kernels since it doesn't meet the criteria. It will use a generic GPU kernel as fallback when running on GPU.\n",
      "WARNING:tensorflow:Layer lstm will not use cuDNN kernels since it doesn't meet the criteria. It will use a generic GPU kernel as fallback when running on GPU.\n",
      "WARNING:tensorflow:Layer lstm_1 will not use cuDNN kernels since it doesn't meet the criteria. It will use a generic GPU kernel as fallback when running on GPU.\n",
      "WARNING:tensorflow:Layer lstm_1 will not use cuDNN kernels since it doesn't meet the criteria. It will use a generic GPU kernel as fallback when running on GPU.\n",
      "WARNING:tensorflow:Layer lstm_1 will not use cuDNN kernels since it doesn't meet the criteria. It will use a generic GPU kernel as fallback when running on GPU.\n",
      "WARNING:tensorflow:Layer lstm_2 will not use cuDNN kernels since it doesn't meet the criteria. It will use a generic GPU kernel as fallback when running on GPU.\n",
      "WARNING:tensorflow:Layer lstm_3 will not use cuDNN kernels since it doesn't meet the criteria. It will use a generic GPU kernel as fallback when running on GPU.\n"
     ]
    }
   ],
   "source": [
    "from keras.models import load_model\n",
    "\n",
    "# Provide the path to your saved model\n",
    "model_path = r'/home/mahimrawal/combinebilstm.h5'\n",
    "# model_path = r'C:\\Users\\Dell\\Downloads\\1-7.h5'\n",
    "\n",
    "# Load the model\n",
    "loaded_model = load_model(model_path)"
   ]
  },
  {
   "cell_type": "code",
   "execution_count": 26,
   "metadata": {},
   "outputs": [
    {
     "name": "stdout",
     "output_type": "stream",
     "text": [
      "38/38 [==============================] - 3s 57ms/step\n"
     ]
    }
   ],
   "source": [
    "yhat = loaded_model.predict(X_train)"
   ]
  },
  {
   "cell_type": "code",
   "execution_count": 27,
   "metadata": {},
   "outputs": [],
   "source": [
    "ytrue = np.argmax(y_train, axis=1).tolist()\n",
    "yhat = np.argmax(yhat, axis=1).tolist()"
   ]
  },
  {
   "cell_type": "code",
   "execution_count": 28,
   "metadata": {},
   "outputs": [
    {
     "data": {
      "text/plain": [
       "array([[[1157,    1],\n",
       "        [   0,   42]],\n",
       "\n",
       "       [[1164,    0],\n",
       "        [   0,   36]],\n",
       "\n",
       "       [[1161,    0],\n",
       "        [   0,   39]],\n",
       "\n",
       "       [[1162,    0],\n",
       "        [   0,   38]],\n",
       "\n",
       "       [[1162,    0],\n",
       "        [   0,   38]],\n",
       "\n",
       "       [[1164,    0],\n",
       "        [   0,   36]],\n",
       "\n",
       "       [[1162,    0],\n",
       "        [   0,   38]],\n",
       "\n",
       "       [[1166,    0],\n",
       "        [   0,   34]],\n",
       "\n",
       "       [[1162,    0],\n",
       "        [   0,   38]],\n",
       "\n",
       "       [[1166,    0],\n",
       "        [   0,   34]],\n",
       "\n",
       "       [[1164,    0],\n",
       "        [   0,   36]],\n",
       "\n",
       "       [[1166,    0],\n",
       "        [   1,   33]],\n",
       "\n",
       "       [[1165,    0],\n",
       "        [   0,   35]],\n",
       "\n",
       "       [[1160,    0],\n",
       "        [   0,   40]],\n",
       "\n",
       "       [[1162,    0],\n",
       "        [   0,   38]],\n",
       "\n",
       "       [[1162,    0],\n",
       "        [   0,   38]],\n",
       "\n",
       "       [[1162,    0],\n",
       "        [   0,   38]],\n",
       "\n",
       "       [[1159,    0],\n",
       "        [   0,   41]],\n",
       "\n",
       "       [[1162,    0],\n",
       "        [   0,   38]],\n",
       "\n",
       "       [[1159,    0],\n",
       "        [   0,   41]],\n",
       "\n",
       "       [[1160,    0],\n",
       "        [   0,   40]],\n",
       "\n",
       "       [[1161,    1],\n",
       "        [   1,   37]],\n",
       "\n",
       "       [[1166,    0],\n",
       "        [   0,   34]],\n",
       "\n",
       "       [[1165,    0],\n",
       "        [   0,   35]],\n",
       "\n",
       "       [[1164,    0],\n",
       "        [   0,   36]],\n",
       "\n",
       "       [[1165,    0],\n",
       "        [   0,   35]],\n",
       "\n",
       "       [[1163,    0],\n",
       "        [   0,   37]],\n",
       "\n",
       "       [[1164,    0],\n",
       "        [   0,   36]],\n",
       "\n",
       "       [[1158,    0],\n",
       "        [   0,   42]],\n",
       "\n",
       "       [[1161,    0],\n",
       "        [   0,   39]],\n",
       "\n",
       "       [[1164,    0],\n",
       "        [   1,   35]],\n",
       "\n",
       "       [[1159,    1],\n",
       "        [   0,   40]]])"
      ]
     },
     "execution_count": 28,
     "metadata": {},
     "output_type": "execute_result"
    }
   ],
   "source": [
    "multilabel_confusion_matrix(ytrue,yhat)\n"
   ]
  },
  {
   "cell_type": "code",
   "execution_count": 29,
   "metadata": {},
   "outputs": [
    {
     "data": {
      "image/png": "[encoded data removed]",
      "text/plain": [
       "<Figure size 1000x800 with 1 Axes>"
      ]
     },
     "metadata": {},
     "output_type": "display_data"
    }
   ],
   "source": [
    "from sklearn.metrics import confusion_matrix\n",
    "import seaborn as sns\n",
    "import matplotlib.pyplot as plt\n",
    "\n",
    "# Assuming you have already trained your model and obtained predictions\n",
    "# y_true are the true labels, and y_pred are the predicted labels\n",
    "# Replace y_true and y_pred with your actual data\n",
    "\n",
    "# Compute the confusion matrix\n",
    "conf_matrix = confusion_matrix(ytrue, yhat)\n",
    "\n",
    "# Plot the confusion matrix using seaborn heatmap\n",
    "plt.figure(figsize=(10, 8))\n",
    "sns.heatmap(conf_matrix, annot=True, fmt=\"d\", cmap=\"Blues\", cbar=False, \n",
    "            xticklabels=actions, yticklabels=actions)\n",
    "plt.xlabel('Predicted labels')\n",
    "plt.ylabel('True labels')\n",
    "plt.title('Confusion Matrix')\n",
    "plt.show()"
   ]
  },
  {
   "cell_type": "code",
   "execution_count": 30,
   "metadata": {},
   "outputs": [
    {
     "data": {
      "text/plain": [
       "0.9975"
      ]
     },
     "execution_count": 30,
     "metadata": {},
     "output_type": "execute_result"
    }
   ],
   "source": [
    "accuracy_score(ytrue, yhat)"
   ]
  },
  {
   "cell_type": "code",
   "execution_count": null,
   "metadata": {},
   "outputs": [],
   "source": [
    "from sklearn.metrics import classification_report\n",
    "\n",
    "# Compute classification report\n",
    "class_report = classification_report(ytrue, yhat)\n",
    "print(\"Classification Report:\")\n",
    "print(class_report)\n"
   ]
  },
  {
   "cell_type": "code",
   "execution_count": null,
   "metadata": {},
   "outputs": [],
   "source": []
  },
  {
   "cell_type": "code",
   "execution_count": null,
   "metadata": {},
   "outputs": [],
   "source": []
  },
  {
   "cell_type": "code",
   "execution_count": null,
   "metadata": {},
   "outputs": [],
   "source": [
    "from keras.models import load_model\n",
    "\n",
    "# Provide the path to your saved model\n",
    "model_path = r'/home/mahimrawal/combile.h5'\n",
    "# model_path = r'C:\\Users\\Dell\\Downloads\\1-7.h5'\n",
    "\n",
    "# Load the model\n",
    "loaded_model = load_model(model_path)"
   ]
  },
  {
   "cell_type": "code",
   "execution_count": null,
   "metadata": {},
   "outputs": [],
   "source": [
    "from sklearn.metrics import multilabel_confusion_matrix, accuracy_score\n"
   ]
  },
  {
   "cell_type": "code",
   "execution_count": null,
   "metadata": {},
   "outputs": [],
   "source": [
    "# yhat = loaded_model.predict(X_train)\n",
    "yhat = loaded_model.predict(X_train)"
   ]
  },
  {
   "cell_type": "code",
   "execution_count": null,
   "metadata": {},
   "outputs": [],
   "source": [
    "ytrue = np.argmax(y_train, axis=1).tolist()\n",
    "yhat = np.argmax(yhat, axis=1).tolist()"
   ]
  },
  {
   "cell_type": "code",
   "execution_count": null,
   "metadata": {},
   "outputs": [],
   "source": [
    "multilabel_confusion_matrix(ytrue,yhat)\n"
   ]
  },
  {
   "cell_type": "code",
   "execution_count": null,
   "metadata": {},
   "outputs": [],
   "source": [
    "from sklearn.metrics import confusion_matrix\n",
    "import seaborn as sns\n",
    "import matplotlib.pyplot as plt\n",
    "\n",
    "# Assuming you have already trained your model and obtained predictions\n",
    "# y_true are the true labels, and y_pred are the predicted labels\n",
    "# Replace y_true and y_pred with your actual data\n",
    "\n",
    "# Compute the confusion matrix\n",
    "conf_matrix = confusion_matrix(ytrue, yhat)\n",
    "\n",
    "# Plot the confusion matrix using seaborn heatmap\n",
    "plt.figure(figsize=(10, 8))\n",
    "sns.heatmap(conf_matrix, annot=True, fmt=\"d\", cmap=\"Blues\", cbar=False, \n",
    "            xticklabels=actions, yticklabels=actions)\n",
    "plt.xlabel('Predicted labels')\n",
    "plt.ylabel('True labels')\n",
    "plt.title('Confusion Matrix')\n",
    "plt.show()"
   ]
  },
  {
   "cell_type": "code",
   "execution_count": null,
   "metadata": {},
   "outputs": [],
   "source": [
    "accuracy_score(ytrue, yhat)\n"
   ]
  },
  {
   "cell_type": "code",
   "execution_count": null,
   "metadata": {},
   "outputs": [],
   "source": [
    "import matplotlib.pyplot as plt\n",
    "\n",
    "fig = plt.figure()\n",
    "plt.plot(loaded_model.history['categorical_accuracy'], color='teal', label='categorical_accuracy')\n",
    "plt.plot(loaded_model.history['val_categorical_accuracy'], color='orange', label='val_categorical_accuracy')\n",
    "fig.suptitle('Categorical Accuracy', fontsize=20)\n",
    "plt.legend(loc=\"upper left\")\n",
    "plt.show()\n"
   ]
  },
  {
   "cell_type": "code",
   "execution_count": null,
   "metadata": {},
   "outputs": [],
   "source": [
    "import matplotlib.pyplot as plt\n",
    "\n",
    "if loaded_model.history is not None:\n",
    "    fig = plt.figure()\n",
    "    if 'categorical_accuracy' in loaded_model.history and 'val_categorical_accuracy' in loaded_model.history:\n",
    "        plt.plot(loaded_model.history['categorical_accuracy'], color='teal', label='categorical_accuracy')\n",
    "        plt.plot(loaded_model.history['val_categorical_accuracy'], color='orange', label='val_categorical_accuracy')\n",
    "        fig.suptitle('Categorical Accuracy', fontsize=20)\n",
    "        plt.legend(loc=\"upper left\")\n",
    "        plt.show()\n",
    "    else:\n",
    "        print(\"History object doesn't contain expected keys.\")\n",
    "else:\n",
    "    print(\"History object is None.\")\n"
   ]
  },
  {
   "cell_type": "code",
   "execution_count": null,
   "metadata": {},
   "outputs": [],
   "source": [
    "fig = plt.figure()\n",
    "plt.plot(loaded_model.history['loss'], color='teal', label='loss')\n",
    "plt.plot(loaded_model.history['val_loss'], color='orange', label='val_loss')\n",
    "fig.suptitle('Loss', fontsize=20)\n",
    "plt.legend(loc=\"upper left\")\n",
    "plt.show()"
   ]
  },
  {
   "cell_type": "code",
   "execution_count": null,
   "metadata": {},
   "outputs": [],
   "source": [
    "import matplotlib.pyplot as plt\n",
    "history=loaded_model\n",
    "# Plot training history\n",
    "fig, axs = plt.subplots(1, 2, figsize=(15, 5))\n",
    "\n",
    "# Plot accuracy\n",
    "axs[0].plot(history.history['categorical_accuracy'])\n",
    "axs[0].plot(history.history['val_categorical_accuracy'])\n",
    "axs[0].set_title('Model Accuracy')\n",
    "axs[0].set_ylabel('Accuracy')\n",
    "axs[0].set_xlabel('Epoch')\n",
    "axs[0].legend(['Train', 'Validation'], loc='best')\n",
    "\n",
    "# Plot loss\n",
    "axs[1].plot(history.history['loss'])\n",
    "axs[1].plot(history.history['val_loss'])\n",
    "axs[1].set_title('Model Loss')\n",
    "axs[1].set_ylabel('Loss')\n",
    "axs[1].set_xlabel('Epoch')\n",
    "axs[1].legend(['Train', 'Validation'], loc='best')\n",
    "\n",
    "plt.show()\n"
   ]
  },
  {
   "cell_type": "code",
   "execution_count": null,
   "metadata": {},
   "outputs": [],
   "source": [
    "result = model.predict(X_train)\n",
    "predicted_class = np.argmax(result, axis=1)\n",
    "true_class = np.argmax(y_train, axis=1)\n",
    "num_correct = np.sum(predicted_class == true_class) \n",
    "accuracy = float(num_correct)/result.shape[0]"
   ]
  },
  {
   "cell_type": "code",
   "execution_count": null,
   "metadata": {},
   "outputs": [],
   "source": [
    "colors = [(245,117,16),(117,245,16),(16,117,245)]\n",
    "def prob_viz(res, actions, input_frame, colors):\n",
    "    output_frame = input_frame.copy()\n",
    "    for num,prob in enumerate(res):\n",
    "        cv2.rectangle(output_frame, (0,30+num*20), (int(prob*50), 45+num*20), colors[num], -1)\n",
    "        cv2.putText(output_frame, actions[num], (0, 42+num*20), cv2.FONT_HERSHEY_SIMPLEX, 1, (225,225,225), 1, cv2.LINE_AA)\n",
    "\n",
    "    return output_frame"
   ]
  },
  {
   "cell_type": "code",
   "execution_count": null,
   "metadata": {},
   "outputs": [],
   "source": [
    "\n",
    "# image=(r'E:\\image.png')\n",
    "plt.imshow(prob_viz(res,actions,image,colors))"
   ]
  },
  {
   "cell_type": "code",
   "execution_count": null,
   "metadata": {},
   "outputs": [],
   "source": [
    "# sequence = []\n",
    "# sentence = []\n",
    "# threshold = 0.9\n",
    "\n",
    "# cap=cv2.VideoCapture(0)\n",
    "# with mp_holistic.Holistic(min_detection_confidence=0.5, min_tracking_confidence=0.5) as holistic:\n",
    "#   while cap.isOpened():\n",
    "#     # Read feed\n",
    "#     ret,frame=cap.read()\n",
    "#     #make detections\n",
    "#     image, results= mediapipe_detection(frame, holistic)\n",
    "#     print(results)\n",
    "\n",
    "#     # Draw landmarks\n",
    "#     # draw_landmarks(image, results)  #default landmarks in face hand \n",
    "\n",
    "#     draw_style_landmarks(image, results) #customized landmarks in face and hand\n",
    "\n",
    "#     # prediction logic\n",
    "#     keypoints = extract_keypoints(results)\n",
    "#     sequence.insert(0,keypoints)\n",
    "#     sequence = sequence[:30]\n",
    "\n",
    "#     if len(sequence) == 30:\n",
    "#       res = model.predict(np.expand_dims(sequence, axis=0))[0]\n",
    "#       print(actions[np.argmax(res)])\n",
    "\n",
    "\n",
    "#     # vizualization logic\n",
    "#     # if 0 <= np.argmax(res) < len(res) and res[np.argmax(res)] > threshold:\n",
    "#     # if all(res > threshold):\n",
    "#       # Rest of your code\n",
    "#     if res[np.argmax(res)] > threshold:\n",
    "#       if len(sentence) > 0:\n",
    "#         if actions[np.argmax(res)] != sentence[-1]:\n",
    "#           sentence.append(actions[np.argmax(res)])\n",
    "#         else:\n",
    "#           sentence.append(actions[np.argmax(res)])\n",
    "#     # if len(sequence) == 30:\n",
    "#     #   predicted_action_index = np.argmax(model.predict(np.expand_dims(sequence, axis=0))[0])\n",
    "#     #   print(actions[predicted_action_index])\n",
    "\n",
    "#     #   # visualization logic\n",
    "#     #   if res[predicted_action_index] > threshold:\n",
    "#     #       if len(sentence) > 0:\n",
    "#     #           if actions[predicted_action_index] != sentence[-1]:\n",
    "#     #               sentence.append(actions[predicted_action_index])\n",
    "#     #           else:\n",
    "#     #               sentence.append(actions[predicted_action_index])\n",
    "\n",
    "#     if len(sentence) > 5:\n",
    "#       sentence = sentence[-5:]\n",
    "\n",
    "#     # viz probabilities\n",
    "#     # image = prob_viz(res,actions,image,colors)\n",
    "\n",
    "#     image=cv2.rectangle(image, (0,0), (640,40), (245,117,16), -1)\n",
    "#     image=cv2.putText(image, ' '.join(sentence), (3,30), cv2.FONT_HERSHEY_SIMPLEX, 1.5, (255, 255, 255), 2, cv2.LINE_AA)\n",
    "#     #show to screen\n",
    "#     cv2.imshow('OPENCV FEED',image)\n",
    "\n",
    "#     if cv2.waitKey(10) & 0xFF==ord('q'):\n",
    "#       break\n",
    "#   cap.release()\n",
    "#   cv2.destroyAllWindows()\n",
    "\n",
    "\n",
    "\n",
    "sequence = []\n",
    "sentence = []\n",
    "predictions = []\n",
    "threshold = 0.9\n",
    "\n",
    "cap = cv2.VideoCapture(0)\n",
    "with mp_holistic.Holistic(min_detection_confidence=0.5, min_tracking_confidence=0.5) as holistic:\n",
    "    while cap.isOpened():\n",
    "        # Read feed\n",
    "        ret, frame = cap.read()\n",
    "        # make detections\n",
    "        image, results = mediapipe_detection(frame, holistic)\n",
    "        print(results)\n",
    "\n",
    "        # Draw landmarks\n",
    "        # draw_landmarks(image, results)  # default landmarks in face hand\n",
    "\n",
    "        draw_style_landmarks(image, results)  # customized landmarks in face and hand\n",
    "\n",
    "        # prediction logic\n",
    "        keypoints = extract_keypoints(results)\n",
    "        sequence.append(keypoints)\n",
    "        # sequence.insert(0, keypoints)\n",
    "        sequence = sequence[-60:]\n",
    "        \n",
    "        if len(sequence) == 60:\n",
    "            res = loaded_model.predict(np.expand_dims(sequence, axis=0))[0]\n",
    "            # print(actions[np.argmax(res)])\n",
    "            # print(\"Confidence values:\", res)\n",
    "            print(\"Predicted Action:\", actions[np.argmax(res)])\n",
    "            predictions.append(np.argmax(res))\n",
    "\n",
    "            # visualization logic\n",
    "            if np.unique(predictions[-20:])[0]==np.argmax(res):\n",
    "                if res[np.argmax(res)] > threshold:\n",
    "                    if len(sentence) > 0:\n",
    "                        if actions[np.argmax(res)] != sentence[-1]:\n",
    "                            sentence.append(actions[np.argmax(res)])\n",
    "                        else:\n",
    "                            sentence.append(actions[np.argmax(res)])\n",
    "\n",
    "            if len(sentence) > 5:\n",
    "                sentence = sentence[-5:]\n",
    "\n",
    "        # viz probabilities\n",
    "            # image = prob_viz(res,actions,image,colors)\n",
    "\n",
    "        # image = cv2.rectangle(image, (0, 0), (640, 40), (245, 117, 16), -1)\n",
    "        image = cv2.putText(image, ' '.join(sentence), (3, 30), cv2.FONT_HERSHEY_SIMPLEX, 1, (255, 255, 255), 2,\n",
    "                            cv2.LINE_AA)\n",
    "        # show to screen\n",
    "        image = cv2.flip(image, 1)\n",
    "        cv2.imshow('OPENCV FEED', image)\n",
    "\n",
    "        if cv2.waitKey(10) & 0xFF == ord('q'):\n",
    "            break\n",
    "\n",
    "    cap.release()\n",
    "    cv2.destroyAllWindows()\n"
   ]
  },
  {
   "cell_type": "code",
   "execution_count": null,
   "metadata": {},
   "outputs": [],
   "source": [
    "cap.release()\n",
    "cv2.destroyAllWindows()"
   ]
  },
  {
   "cell_type": "code",
   "execution_count": null,
   "metadata": {},
   "outputs": [],
   "source": [
    "res[np.argmax(res)] >threshold"
   ]
  },
  {
   "cell_type": "code",
   "execution_count": null,
   "metadata": {},
   "outputs": [],
   "source": []
  },
  {
   "cell_type": "code",
   "execution_count": null,
   "metadata": {},
   "outputs": [],
   "source": []
  },
  {
   "cell_type": "code",
   "execution_count": null,
   "metadata": {},
   "outputs": [],
   "source": []
  }
 ],
 "metadata": {
  "kernelspec": {
   "display_name": "project",
   "language": "python",
   "name": "python3"
  },
  "language_info": {
   "codemirror_mode": {
    "name": "ipython",
    "version": 3
   },
   "file_extension": ".py",
   "mimetype": "text/x-python",
   "name": "python",
   "nbconvert_exporter": "python",
   "pygments_lexer": "ipython3",
   "version": "3.9.18"
  }
 },
 "nbformat": 4,
 "nbformat_minor": 2
}
