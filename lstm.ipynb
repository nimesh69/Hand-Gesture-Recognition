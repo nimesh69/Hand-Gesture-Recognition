{
 "cells": [
  {
   "cell_type": "code",
   "execution_count": null,
   "metadata": {},
   "outputs": [],
   "source": [
    "import cv2\n",
    "import numpy as np\n",
    "import os\n",
    "from matplotlib import pyplot as plt\n",
    "import time\n",
    "import mediapipe as mp\n",
    "from mediapipe.python.solutions import holistic\n",
    "import tensorflow as tf\n",
    "from sklearn.model_selection import train_test_split\n",
    "from keras.utils import to_categorical\n",
    "from keras.models import Sequential\n",
    "from keras.layers import LSTM, Dense, Dropout,Bidirectional,BatchNormalization\n",
    "from keras.callbacks import TensorBoard\n",
    "from keras.regularizers import l2\n",
    "from sklearn.metrics import multilabel_confusion_matrix, accuracy_score\n"
   ]
  },
  {
   "cell_type": "code",
   "execution_count": null,
   "metadata": {},
   "outputs": [],
   "source": [
    "mp_drawing=mp.solutions.drawing_utils   #holistic model\n",
    "mp_holistic=mp.solutions.holistic       #drawing utilities\n",
    "def mediapipe_detection(image,model):\n",
    "    image = cv2.cvtColor(image, cv2.COLOR_BGR2RGB)  #color conversion BGR to RGB\n",
    "    image.flags.writeable = False                   #Image is no longer writeable\n",
    "    results = model.process(image)                  # make prediction\n",
    "    image.flags.writeable = True                    #image is now writeable\n",
    "    image = cv2.cvtColor(image, cv2.COLOR_RGB2BGR)  #color conversion again RGB to BGR\n",
    "    return image,results\n",
    "\n",
    "def draw_landmarks(image, results):\n",
    "    mp_drawing.draw_landmarks(image, results.face_landmarks, mp_holistic.FACEMESH_TESSELATION)  # Draw face connections\n",
    "    mp_drawing.draw_landmarks(image, results.pose_landmarks, mp_holistic.POSE_CONNECTIONS)  # Draw pose connections\n",
    "    mp_drawing.draw_landmarks(image, results.left_hand_landmarks, mp_holistic.HAND_CONNECTIONS) # Draw left hand connections\n",
    "    mp_drawing.draw_landmarks(image, results.right_hand_landmarks, mp_holistic.HAND_CONNECTIONS) #Draw right hand connections\n",
    "\n",
    "def draw_style_landmarks(image, results):\n",
    "    mp_drawing.draw_landmarks(image, results.face_landmarks, mp_holistic.FACEMESH_TESSELATION,\n",
    "                              mp_drawing.DrawingSpec(color=(175,13,13), thickness=1, circle_radius=1),   #color dot\n",
    "                              mp_drawing.DrawingSpec(color=(0,0,0), thickness=1, circle_radius=1)    #color line\n",
    "                              )\n",
    "    mp_drawing.draw_landmarks(image, results.pose_landmarks, mp_holistic.POSE_CONNECTIONS,\n",
    "                              mp_drawing.DrawingSpec(color=(178,16,16), thickness=2, circle_radius=4),   #color dot\n",
    "                              mp_drawing.DrawingSpec(color=(0,0,0), thickness=2, circle_radius=2)    #color line\n",
    "                              )\n",
    "    mp_drawing.draw_landmarks(image, results.left_hand_landmarks, mp_holistic.HAND_CONNECTIONS,\n",
    "                              mp_drawing.DrawingSpec(color=(0,0,0), thickness=2, circle_radius=1),   #color dot\n",
    "                              mp_drawing.DrawingSpec(color=(255,255,255), thickness=2, circle_radius=2)    #color line\n",
    "                              )\n",
    "    mp_drawing.draw_landmarks(image, results.right_hand_landmarks, mp_holistic.HAND_CONNECTIONS,\n",
    "                              mp_drawing.DrawingSpec(color=(255,255,255), thickness=2, circle_radius=1),   #color dot\n",
    "                              mp_drawing.DrawingSpec(color=(0,0,0), thickness=2, circle_radius=2)    #color line\n",
    "                              )\n",
    "def extract_keypoints(results):\n",
    "    pose = np.array([[res.x,res.y,res.y,res.visibility] for res in results.pose_landmarks.landmark]).flatten() if results.pose_landmarks else np.zeros(33*4)\n",
    "    face = np.array([[res.x,res.y,res.y] for res in results.face_landmarks.landmark]).flatten() if results.face_landmarks else np.zeros(468*3)\n",
    "    lh = np.array([[res.x,res.y,res.y] for res in results.left_hand_landmarks.landmark]).flatten() if results.left_hand_landmarks else np.zeros(21*3)\n",
    "    rh = np.array([[res.x,res.y,res.y] for res in results.right_hand_landmarks.landmark]).flatten() if results.right_hand_landmarks else np.zeros(21*3)\n",
    "    return np.concatenate([pose,face,lh,rh])"
   ]
  },
  {
   "cell_type": "code",
   "execution_count": null,
   "metadata": {},
   "outputs": [],
   "source": [
    "#path for exported data, numpy arrays\n",
    "DATA_PATH = os.path.join('D:\\Data collection\\Frame_Data')\n",
    "# IMAGES_PATH= os.path.join('Frame_collection')\n",
    "#action that we are creating and detect\n",
    "# actions=np.array(['Aausadi','Ambulance','Bathroom','Be Careful','Bleeding','Call','Dhanebad','Doctor','Dont Understand','Eklopan',\n",
    "#                   'Emergency','Firstaid','Good Morning','Happy','Heart_attack','Hello','Help','Hospital','Name','Need','Nice To Meet You',\n",
    "#                   'Oxygen','Pain','Please','Police','Relax','Sign','Slowly','Sorry','What','Yes','You'])\n",
    "# actions=np.array(['Ambulance','Bathroom','Be Careful','Bleeding','Good Morning','Help','Name','Relax','Slowly','What'])\n",
    "# actions=np.array(['Doctor','Dont Understand','Happy','Hello','Hospital','Nice To Meet You','Oxygen','Pain','Police','Yes','Sorry'])\n",
    "actions=np.array(['Aausadhi','Call','Dhanebad','Eklopan','Emergency','Heart_attack','Need','Please','Prathamik Upachar','Sign','You'])\n",
    "# actions=np.array(['Doctor','Dont Understand','Happy','Hello','Hospital','Nice To Meet You','Oxygen','Pain','Police','Yes','Sorry','चिकित्सक'])\n",
    "\n",
    "#thirty videos worth of data\n",
    "no_sequences = 50\n",
    "\n",
    "#videos are going to be 60 frames in length\n",
    "sequence_length = 60\n",
    "label_map= {label:num for num, label in enumerate(actions)}\n"
   ]
  },
  {
   "cell_type": "code",
   "execution_count": null,
   "metadata": {},
   "outputs": [],
   "source": [
    "import os\n",
    "\n",
    "sequences, labels = [], []\n",
    "\n",
    "# Iterate through actions\n",
    "for action in actions:\n",
    "    action_path = os.path.join(DATA_PATH, action)\n",
    "    label = label_map[action]\n",
    "\n",
    "    # Iterate through sequences\n",
    "    for sequence in range(no_sequences):\n",
    "        window = []\n",
    "\n",
    "        # Load all frames of the sequence at once\n",
    "        sequence_frames = [np.load(os.path.join(action_path, str(sequence), \"{}.npy\".format(frame_num))) \n",
    "                           for frame_num in range(sequence_length)]\n",
    "\n",
    "        # Append the sequence frames to the window\n",
    "        window.extend(sequence_frames)\n",
    "\n",
    "        # Append the window to the sequences list\n",
    "        sequences.append(window)\n",
    "\n",
    "        # Append the label to the labels list\n",
    "        labels.append(label)\n"
   ]
  },
  {
   "cell_type": "code",
   "execution_count": null,
   "metadata": {},
   "outputs": [],
   "source": [
    "X = np.array(sequences)\n",
    "y = to_categorical(labels).astype(int)\n"
   ]
  },
  {
   "cell_type": "code",
   "execution_count": null,
   "metadata": {},
   "outputs": [],
   "source": [
    "# X_train, X_test, y_train, y_test = train_test_split(X, y, test_size=0.05)\n",
    "from sklearn.model_selection import train_test_split\n",
    "\n",
    "# Assuming you have X (features) and y (labels)\n",
    "X_train, X_val, y_train, y_val = train_test_split(X, y, test_size=0.25, random_state=42)\n",
    "\n",
    "# Now X_train and y_train are the training set, and X_val and y_val are the validation set\n"
   ]
  },
  {
   "cell_type": "code",
   "execution_count": null,
   "metadata": {},
   "outputs": [],
   "source": [
    "log_dir = os.path.join('Logs')\n",
    "tb_callback = TensorBoard(log_dir=log_dir)"
   ]
  },
  {
   "cell_type": "code",
   "execution_count": null,
   "metadata": {},
   "outputs": [],
   "source": [
    "model = Sequential()\n",
    "model.add(LSTM(64, return_sequences=True, activation='relu', input_shape=(60, 1662)))\n",
    "\n",
    "model.add(Dense(32, activation='relu'))  # Additional Dense layer\n",
    "model.add(Dense(actions.shape[0], activation='softmax'))\n",
    "model.summary()\n",
    "\n",
    "#try second model\n",
    "model = Sequential()\n",
    "model.add(LSTM(64, return_sequences=True, activation='relu', input_shape=(60,1662)))\n",
    "model.add(LSTM(128, return_sequences=True, activation='relu'))\n",
    "model.add(LSTM(64, return_sequences=False, activation='relu'))\n",
    "model.add(Dense(64, activation='relu'))\n",
    "model.add(Dense(32, activation='relu'))\n",
    "model.add(Dense(actions.shape[0], activation='softmax'))\n",
    "\n",
    "#try third model\n",
    "model = Sequential()\n",
    "model.add(LSTM(64, return_sequences=True, activation='relu', input_shape=(60, 1662)))\n",
    "model.add(LSTM(128, return_sequences=True, activation='relu'))\n",
    "model.add(LSTM(256, return_sequences=True, activation='relu'))  # Additional LSTM layer\n",
    "model.add(LSTM(128, return_sequences=False, activation='relu'))\n",
    "# model.add(LSTM(64, return_sequences=True, activation='relu', kernel_regularizer=l2(0.01)))\n",
    "model.add(Dense(128, activation='relu'))  # Additional Dense layer\n",
    "model.add(Dropout(0.5))\n",
    "model.add(Dense(64, activation='relu'))\n",
    "model.add(Dense(32, activation='relu'))\n",
    "model.add(Dense(actions.shape[0], activation='softmax'))\n",
    "\n",
    "#try fourth model\n",
    "model = Sequential()\n",
    "model.add(LSTM(64, return_sequences=True, activation='relu', input_shape=(60, 1662)))\n",
    "model.add(LSTM(128, return_sequences=True, activation='relu'))\n",
    "model.add(LSTM(64, return_sequences=False, activation='relu'))\n",
    "model.add(Dense(64, activation='relu'))\n",
    "model.add(Dropout(0.5))  # Adding dropout to prevent overfitting\n",
    "model.add(Dense(32, activation='relu'))\n",
    "model.add(Dropout(0.5))  # Adding dropout to prevent overfitting\n",
    "model.add(Dense(actions.shape[0], activation='softmax'))\n",
    "\n",
    "#try fifth model\n",
    "model = Sequential()\n",
    "model.add(Bidirectional(LSTM(128, return_sequences=True, activation='relu'), input_shape=(60, 1662)))\n",
    "model.add(Bidirectional(LSTM(264, return_sequences=True, activation='relu')))\n",
    "model.add(LSTM(128, return_sequences=False, activation='relu'))\n",
    "model.add(Dense(128, activation='relu'))\n",
    "model.add(Dropout(0.5))  # Adjust dropout rate based on experimentation\n",
    "model.add(BatchNormalization())\n",
    "model.add(Dense(64, activation='relu'))\n",
    "model.add(Dropout(0.5))\n",
    "model.add(Dense(actions.shape[0], activation='softmax'))\n",
    "\n"
   ]
  },
  {
   "cell_type": "code",
   "execution_count": null,
   "metadata": {},
   "outputs": [],
   "source": [
    "# model.compile(optimizer='Adam', loss='categorical_crossentropy', metrics=['categorical_accuracy'])\n",
    "\n",
    "\n",
    "from keras.optimizers import Adam\n",
    "\n",
    "model.compile(optimizer=Adam(learning_rate=0.00001), loss='categorical_crossentropy', metrics=['categorical_accuracy'])\n",
    "\n"
   ]
  },
  {
   "cell_type": "code",
   "execution_count": null,
   "metadata": {},
   "outputs": [],
   "source": [
    "# model.fit(X_train, y_train, epochs=300, callbacks=[tb_callback])\n",
    "history=model.fit(X_train, y_train, epochs=250, batch_size=128, validation_data=(X_val, y_val), callbacks=[tb_callback])\n",
    "model.save('lstm3.h5')\n",
    "\n"
   ]
  },
  {
   "cell_type": "code",
   "execution_count": null,
   "metadata": {},
   "outputs": [],
   "source": [
    "from keras.models import load_model\n",
    "\n",
    "#Provide the path to your saved model\n",
    "model_path = r'D:\\Hand Gesture Recognition\\lstm3.h5'\n",
    "#Load the model\n",
    "loaded_model = load_model(model_path)\n"
   ]
  },
  {
   "cell_type": "code",
   "execution_count": null,
   "metadata": {},
   "outputs": [],
   "source": [
    "fig = plt.figure()\n",
    "plt.plot(history.history['loss'], color='teal', label='loss')\n",
    "plt.plot(history.history['val_loss'], color='orange', label='val_loss')\n",
    "fig.suptitle('Loss', fontsize=20)\n",
    "plt.legend(loc=\"upper left\")\n",
    "plt.show()"
   ]
  },
  {
   "cell_type": "code",
   "execution_count": null,
   "metadata": {},
   "outputs": [],
   "source": [
    "\n",
    "fig = plt.figure()\n",
    "plt.plot(history.history['categorical_accuracy'], color='teal', label='accuracy')\n",
    "plt.plot(history.history['val_categorical_accuracy'], color='orange', label='val_accuracy')\n",
    "fig.suptitle('Accuracy', fontsize=20)\n",
    "plt.legend(loc=\"upper left\")\n",
    "plt.show()"
   ]
  },
  {
   "cell_type": "code",
   "execution_count": null,
   "metadata": {},
   "outputs": [],
   "source": [
    "yhat = loaded_model.predict(X_train)\n",
    "ytrue = np.argmax(y_train, axis=1).tolist()\n",
    "yhat = np.argmax(yhat, axis=1).tolist()\n",
    "multilabel_confusion_matrix(ytrue,yhat)\n",
    "from sklearn.metrics import confusion_matrix\n",
    "import seaborn as sns\n",
    "import matplotlib.pyplot as plt\n"
   ]
  },
  {
   "cell_type": "code",
   "execution_count": null,
   "metadata": {},
   "outputs": [],
   "source": [
    "# #Assuming you have already trained your model and obtained predictions\n",
    "# y_true are the true labels, and y_pred are the predicted labels\n",
    "# Replace y_true and y_pred with your actual data\n",
    "# Compute the confusion matrix\n",
    "conf_matrix = confusion_matrix(ytrue, yhat)\n",
    "\n",
    "#Plot the confusion matrix using seaborn heatmap\n",
    "plt.figure(figsize=(10, 8))\n",
    "sns.heatmap(conf_matrix, annot=True, fmt=\"d\", cmap=\"Blues\", cbar=False, \n",
    "            xticklabels=actions, yticklabels=actions)\n",
    "plt.xlabel('Predicted labels')\n",
    "plt.ylabel('True labels')\n",
    "plt.title('Confusion Matrix')\n",
    "plt.show()\n",
    "accuracy_score(ytrue, yhat)\n",
    "\n"
   ]
  },
  {
   "cell_type": "code",
   "execution_count": null,
   "metadata": {},
   "outputs": [],
   "source": [
    "from sklearn.metrics import classification_report\n",
    "#Compute classification report\n",
    "class_report = classification_report(ytrue, yhat)\n",
    "print(\"Classification Report:\")\n",
    "print(class_report)"
   ]
  }
 ],
 "metadata": {
  "kernelspec": {
   "display_name": "tf2",
   "language": "python",
   "name": "python3"
  },
  "language_info": {
   "codemirror_mode": {
    "name": "ipython",
    "version": 3
   },
   "file_extension": ".py",
   "mimetype": "text/x-python",
   "name": "python",
   "nbconvert_exporter": "python",
   "pygments_lexer": "ipython3",
   "version": "3.9.18"
  }
 },
 "nbformat": 4,
 "nbformat_minor": 2
}
